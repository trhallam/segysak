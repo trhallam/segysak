{
 "cells": [
  {
   "cell_type": "markdown",
   "metadata": {},
   "source": [
    "# Working with seismic and interpreted horizons"
   ]
  },
  {
   "cell_type": "code",
   "execution_count": null,
   "metadata": {},
   "outputs": [],
   "source": [
    "import numpy as np\n",
    "import pandas as pd\n",
    "import matplotlib.pyplot as plt\n",
    "import warnings\n",
    "warnings.filterwarnings('ignore')"
   ]
  },
  {
   "cell_type": "code",
   "execution_count": null,
   "metadata": {},
   "outputs": [],
   "source": [
    "from segysak.segy import segy_loader, get_segy_texthead, segy_header_scan, segy_header_scrape, well_known_byte_locs"
   ]
  },
  {
   "cell_type": "code",
   "execution_count": null,
   "metadata": {},
   "outputs": [],
   "source": [
    "segy_file = '../data/volve10r12-full-twt-sub3d.sgy'\n",
    "cube = segy_loader(segy_file, **well_known_byte_locs(\"petrel_3d\"))"
   ]
  },
  {
   "cell_type": "code",
   "execution_count": null,
   "metadata": {},
   "outputs": [],
   "source": [
    "print('Loaded cube size: {}'.format(cube.seis.humanbytes))"
   ]
  },
  {
   "cell_type": "code",
   "execution_count": null,
   "metadata": {},
   "outputs": [],
   "source": [
    "print('Is it two-way-time? {}'.format(cube.seis.is_twt()))"
   ]
  },
  {
   "cell_type": "markdown",
   "metadata": {},
   "source": [
    "## Load horizon data\n",
    "\n",
    "First we load the horizon data to a Pandas DataFrame and take a look at the first few lines:"
   ]
  },
  {
   "cell_type": "code",
   "execution_count": null,
   "metadata": {},
   "outputs": [],
   "source": [
    "hrz_file = '../data/hor_twt_hugin_fm_top.dat'\n",
    "hrz = pd.read_csv(hrz_file, names=[\"cdp_x\",\"cdp_y\",\"twt\"], sep='\\s+')\n",
    "hrz.head()"
   ]
  },
  {
   "cell_type": "markdown",
   "metadata": {},
   "source": [
    "## Display horizon and seismic extents\n",
    "\n",
    "We can build a plot to display the horizon in its entirety and overlay it with the extent of the seismic cube previously loaded.\n",
    "\n",
    "First we use **segysak** built-in `calc_corner_points()` method to calculate the corner points of the loaded cube and copy them to a numpy array to be used for the plot:"
   ]
  },
  {
   "cell_type": "code",
   "execution_count": null,
   "metadata": {},
   "outputs": [],
   "source": [
    "cube.seis.calc_corner_points()\n",
    "corners = np.array(cube.attrs['corner_points_xy'])"
   ]
  },
  {
   "cell_type": "markdown",
   "metadata": {},
   "source": [
    "To display the horizon we need to grid the raw data first:"
   ]
  },
  {
   "cell_type": "code",
   "execution_count": null,
   "metadata": {},
   "outputs": [],
   "source": [
    "from scipy.interpolate import griddata\n",
    "\n",
    "xi = np.linspace(hrz.cdp_x.min(), hrz.cdp_x.max(), 250)\n",
    "yi = np.linspace(hrz.cdp_y.min(), hrz.cdp_y.max(), 2500)\n",
    "X, Y = np.meshgrid(xi, yi)\n",
    "Z = griddata((hrz.cdp_x, hrz.cdp_y), hrz.twt, (X,Y))"
   ]
  },
  {
   "cell_type": "markdown",
   "metadata": {},
   "source": [
    "And this is the resulting plot with the extent of the loaded cube displayed as a thick red outline:"
   ]
  },
  {
   "cell_type": "code",
   "execution_count": null,
   "metadata": {},
   "outputs": [],
   "source": [
    "from matplotlib.patches import Polygon\n",
    "survey_limits = Polygon(corners, fill=False, edgecolor='r',\n",
    "                        linewidth=2, label='3D survey extent')\n",
    "\n",
    "f, ax = plt.subplots(figsize=(8,6))\n",
    "pp = ax.pcolormesh(X, Y, Z, cmap='terrain_r')\n",
    "f.colorbar(pp, orientation='horizontal', label='TWT [ms]')\n",
    "ax.add_patch(survey_limits)\n",
    "ax.axis('equal')\n",
    "ax.legend()\n",
    "ax.set_title('Top Hugin fm.');"
   ]
  },
  {
   "cell_type": "markdown",
   "metadata": {},
   "source": [
    "## Extracting amplitudes along the horizon\n",
    "\n",
    "This is where the magic of segysak comes in. We use `surface_from_points` to map the loaded horizon imported in tabular format to each seismic bin. The input horizon in this case is defined in geographical coordinates but it would also have worked if it was defined in inlines and crosslines:"
   ]
  },
  {
   "cell_type": "code",
   "execution_count": null,
   "metadata": {},
   "outputs": [],
   "source": [
    "hrz_mapped = cube.seis.surface_from_points(hrz, 'twt', right=('cdp_x', 'cdp_y'))"
   ]
  },
  {
   "cell_type": "markdown",
   "metadata": {},
   "source": [
    "And to extract seismic amplitudes along this horizon we use the magic of `xarray`:"
   ]
  },
  {
   "cell_type": "code",
   "execution_count": null,
   "metadata": {},
   "outputs": [],
   "source": [
    "amp = cube.data.interp({'iline':hrz_mapped.iline,\n",
    "                        'xline':hrz_mapped.xline,\n",
    "                        'twt':hrz_mapped.twt})"
   ]
  },
  {
   "cell_type": "markdown",
   "metadata": {},
   "source": [
    "For the next plot we use another attribute automatically calculated by **segysak** during loading to squeeze the colormap used when displaying amplitudes:"
   ]
  },
  {
   "cell_type": "code",
   "execution_count": null,
   "metadata": {},
   "outputs": [],
   "source": [
    "minamp, maxamp = cube.attrs['percentiles'][1], cube.attrs['percentiles'][-2]"
   ]
  },
  {
   "cell_type": "markdown",
   "metadata": {},
   "source": [
    "...and we calculate the minimum and maximum X and Y coordinates using the `corners` array described above to set the figure extent and zoom in the area covered by the seismic cube:"
   ]
  },
  {
   "cell_type": "code",
   "execution_count": null,
   "metadata": {},
   "outputs": [],
   "source": [
    "xmin, xmax = corners[:,0].min(), corners[:,0].max()\n",
    "ymin, ymax = corners[:,1].min(), corners[:,1].max()"
   ]
  },
  {
   "cell_type": "markdown",
   "metadata": {},
   "source": [
    "We can plot `amp` now on top of the same twt grid we did above:"
   ]
  },
  {
   "cell_type": "code",
   "execution_count": null,
   "metadata": {},
   "outputs": [],
   "source": [
    "survey_limits = Polygon(corners, fill=False, edgecolor='r',\n",
    "                        linewidth=2, label='3D survey extent')\n",
    "\n",
    "f, ax = plt.subplots(nrows=2, figsize=(8,10))\n",
    "ax[0].pcolormesh(X, Y, Z, cmap='terrain_r')\n",
    "ax[0].add_patch(survey_limits)\n",
    "for aa in ax:\n",
    "    hh = aa.pcolormesh(amp.cdp_x, amp.cdp_y, amp.data, cmap='RdYlBu',\n",
    "                   vmin=minamp, vmax=maxamp)\n",
    "    aa.axis('equal')\n",
    "ax[0].legend()\n",
    "ax[1].set_xlim(xmin, xmax)\n",
    "ax[1].set_ylim(ymin, ymax)\n",
    "ax[0].set_title('Top Hugin fm. and amplitude extraction on loaded seismic')\n",
    "ax[1].set_title('Amplitude extraction at Top Hugin (zoom)')\n",
    "cax = f.add_axes([0.15, 0.16, 0.5, 0.02])\n",
    "f.colorbar(hh, cax=cax, orientation='horizontal');"
   ]
  },
  {
   "cell_type": "markdown",
   "metadata": {},
   "source": [
    "Another classic display is to superimpose the structure contours to the amplitudes. This is much faster and easier using survey coordinates (inlines and crosslines):"
   ]
  },
  {
   "cell_type": "code",
   "execution_count": null,
   "metadata": {},
   "outputs": [],
   "source": [
    "f, ax = plt.subplots(figsize=(12,4))\n",
    "amp.plot(cmap='RdYlBu')\n",
    "cs = plt.contour(amp.xline, amp.iline, hrz_mapped.twt, levels=20, colors='grey')\n",
    "plt.clabel(cs, fontsize=10, fmt='%.0f')\n",
    "ax.invert_xaxis()"
   ]
  },
  {
   "cell_type": "markdown",
   "metadata": {},
   "source": [
    "## Display horizon in section view"
   ]
  },
  {
   "cell_type": "code",
   "execution_count": null,
   "metadata": {},
   "outputs": [],
   "source": [
    "opt = dict(x='xline', y='twt', add_colorbar=True,\n",
    "        interpolation='spline16', robust=True,\n",
    "        yincrease=False, cmap='Greys')\n",
    "\n",
    "inl_sel = [10130, 10100]\n",
    "\n",
    "f, ax = plt.subplots(nrows=2, figsize=(10, 6), sharey=True,\n",
    "                     constrained_layout=True)\n",
    "for i, val in enumerate(inl_sel):\n",
    "    cube.data.sel(iline=val, twt=slice(2300,3000)).plot.imshow(ax=ax[i], **opt)\n",
    "    x, t = hrz_mapped.sel(iline=val).xline, hrz_mapped.sel(iline=val).twt\n",
    "    ax[i].plot(x, t, color='r')\n",
    "    ax[i].invert_xaxis()"
   ]
  },
  {
   "cell_type": "markdown",
   "metadata": {},
   "source": [
    "We can also show an overlay of amplitudes and two-way-times along the same inlines:"
   ]
  },
  {
   "cell_type": "code",
   "execution_count": null,
   "metadata": {},
   "outputs": [],
   "source": [
    "inl_sel = [10130, 10100]\n",
    "\n",
    "f, ax = plt.subplots(nrows=2, figsize=(10, 6), sharey=True,\n",
    "                     constrained_layout=True)\n",
    "\n",
    "for i, val in enumerate(inl_sel):\n",
    "    axz = ax[i].twinx()\n",
    "    x, t = amp.sel(iline=val).xline, amp.sel(iline=val).twt\n",
    "    a = amp.sel(iline=val).data\n",
    "    ax[i].plot(x, a, color='r')\n",
    "    axz.plot(x, t, color='k')\n",
    "    ax[i].invert_xaxis()\n",
    "    axz.invert_yaxis()\n",
    "    ax[i].set_ylabel('Amplitude', color='r')\n",
    "    plt.setp(ax[i].yaxis.get_majorticklabels(), color='r')\n",
    "    axz.set_ylabel('TWT [ms]')\n",
    "    ax[i].set_title('Amplitude and two-way-time at inline {}'.format(val))"
   ]
  },
  {
   "cell_type": "markdown",
   "metadata": {},
   "source": [
    "## Horizon Sculpting and Windowed map Extraction"
   ]
  },
  {
   "cell_type": "markdown",
   "metadata": {},
   "source": [
    "To create windows map extraction it is necessay to first mask the seisnc cube and the to collapse it along the chosen axis using a prefered method. In this case we are just going to calculate the mean amplitude in a 100ms window below our horizon."
   ]
  },
  {
   "cell_type": "code",
   "execution_count": null,
   "metadata": {},
   "outputs": [],
   "source": [
    "mask_below = cube.where(cube.twt < hrz_mapped.twt + 100)\n",
    "mask_above = cube.where(cube.twt > hrz_mapped.twt)\n",
    "masks = [mask_above, mask_below]"
   ]
  },
  {
   "cell_type": "markdown",
   "metadata": {},
   "source": [
    "Lets see what our masks look like"
   ]
  },
  {
   "cell_type": "code",
   "execution_count": null,
   "metadata": {},
   "outputs": [],
   "source": [
    "opt = dict(x='xline', y='twt', add_colorbar=True,\n",
    "        interpolation='spline16', robust=True,\n",
    "        yincrease=False, cmap='Greys')\n",
    "\n",
    "inl_sel = [10130, 10100]\n",
    "\n",
    "f, ax = plt.subplots(nrows=2, figsize=(10, 6), sharey=True,\n",
    "                     constrained_layout=True)\n",
    "for i, val in enumerate(inl_sel,):\n",
    "    masks[i].data.sel(iline=val, twt=slice(2300,3000)).plot.imshow(ax=ax[i], **opt)\n",
    "    x, t = hrz_mapped.sel(iline=val).xline, hrz_mapped.sel(iline=val).twt\n",
    "    ax[i].plot(x, t, color='r')\n",
    "    ax[i].invert_xaxis()"
   ]
  },
  {
   "cell_type": "markdown",
   "metadata": {},
   "source": [
    "And if we combine the masks."
   ]
  },
  {
   "cell_type": "code",
   "execution_count": null,
   "metadata": {},
   "outputs": [],
   "source": [
    "opt = dict(x='xline', y='twt', add_colorbar=True,\n",
    "        interpolation='spline16', robust=True,\n",
    "        yincrease=False, cmap='Greys')\n",
    "\n",
    "inl_sel = [10130, 10100]\n",
    "\n",
    "f, ax = plt.subplots(nrows=1, figsize=(10, 3), sharey=True,\n",
    "                     constrained_layout=True)\n",
    "\n",
    "masked_data = 0.5*(mask_below + mask_above)\n",
    "\n",
    "masked_data.data.sel(iline=val, twt=slice(2300,3000)).plot.imshow(ax=ax, **opt)\n",
    "x, t = hrz_mapped.sel(iline=val).xline, hrz_mapped.sel(iline=val).twt\n",
    "ax.plot(x, t, color='r')\n",
    "ax.invert_xaxis()"
   ]
  },
  {
   "cell_type": "markdown",
   "metadata": {},
   "source": [
    "To get the horizon window extraction for sum of amplitudes we now need to sum along the time axis. Or\n",
    "we can use the `np.apply_along_axis` function to apply a custom function to our masked cube."
   ]
  },
  {
   "cell_type": "code",
   "execution_count": null,
   "metadata": {},
   "outputs": [],
   "source": [
    "summed_amp = masked_data.sum(dim='twt')\n",
    "\n",
    "f, ax = plt.subplots(figsize=(12,4))\n",
    "summed_amp.data.plot.imshow(cmap='RdYlBu', interpolation='spline16', )\n",
    "cs = plt.contour(amp.xline, amp.iline, hrz_mapped.twt, levels=20, colors='grey')\n",
    "plt.clabel(cs, fontsize=10, fmt='%.0f')\n",
    "ax.invert_xaxis()\n",
    "ax.set_title('Sum of amplitudes Top Hugin 0 to +100ms')"
   ]
  }
 ],
 "metadata": {
  "kernelspec": {
   "display_name": "Python 3",
   "language": "python",
   "name": "python3"
  },
  "language_info": {
   "codemirror_mode": {
    "name": "ipython",
    "version": 3
   },
   "file_extension": ".py",
   "mimetype": "text/x-python",
   "name": "python",
   "nbconvert_exporter": "python",
   "pygments_lexer": "ipython3",
   "version": "3.7.6"
  }
 },
 "nbformat": 4,
 "nbformat_minor": 4
}
