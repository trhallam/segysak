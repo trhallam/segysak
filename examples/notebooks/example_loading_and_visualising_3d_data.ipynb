{
 "cells": [
  {
   "cell_type": "code",
   "execution_count": null,
   "metadata": {},
   "outputs": [],
   "source": [
    "%load_ext autoreload\n",
    "%autoreload 2\n",
    "\n",
    "from os import path"
   ]
  },
  {
   "cell_type": "code",
   "execution_count": null,
   "metadata": {},
   "outputs": [],
   "source": [
    "volve_3d_path = path.join(\"..\", \"data\", \"volve10r12-full-twt-sub3d.sgy\")\n",
    "print(\"3D\", volve_3d_path, path.exists(volve_3d_path))"
   ]
  },
  {
   "cell_type": "code",
   "execution_count": null,
   "metadata": {},
   "outputs": [],
   "source": [
    "from segysak.segy import segy_loader, get_segy_texthead, segy_header_scan, segy_header_scrape"
   ]
  },
  {
   "cell_type": "code",
   "execution_count": null,
   "metadata": {},
   "outputs": [],
   "source": [
    "get_segy_texthead(volve_3d_path)"
   ]
  },
  {
   "cell_type": "code",
   "execution_count": null,
   "metadata": {},
   "outputs": [],
   "source": [
    "from segysak.segy import well_known_byte_locs\n",
    "\n",
    "volve_3d = segy_loader(volve_3d_path, **well_known_byte_locs(\"petrel_3d\"))"
   ]
  },
  {
   "cell_type": "code",
   "execution_count": null,
   "metadata": {
    "scrolled": true
   },
   "outputs": [],
   "source": [
    "volve_3d.data"
   ]
  },
  {
   "cell_type": "code",
   "execution_count": null,
   "metadata": {},
   "outputs": [],
   "source": [
    "import matplotlib.pyplot as plt\n",
    "fig, axs = plt.subplots(ncols=3, figsize=(20, 10))\n",
    "\n",
    "im = axs[0].imshow(volve_3d.data.isel(iline=50).T, aspect='auto', vmin=-20, vmax=20)\n",
    "axs[1].plot(volve_3d.data.isel(iline=50, xline=50), volve_3d.coords[\"twt\"].values)\n",
    "axs[1].invert_yaxis()\n",
    "axs[2].scatter(volve_3d.cdp_x.values, volve_3d.cdp_y.values)"
   ]
  },
  {
   "cell_type": "markdown",
   "metadata": {},
   "source": [
    "## Compute per-trace stats in 2d and 3d"
   ]
  },
  {
   "cell_type": "code",
   "execution_count": null,
   "metadata": {},
   "outputs": [],
   "source": [
    "plt.figure(figsize=(16,8))\n",
    "plt.subplot(211)\n",
    "\n",
    "plt.subplot(211)\n",
    "plt.imshow(volve_3d.mean(['twt']).data)\n",
    "\n",
    "plt.subplot(212)\n",
    "plt.imshow(volve_3d.std(['twt']).data)"
   ]
  },
  {
   "cell_type": "code",
   "execution_count": null,
   "metadata": {},
   "outputs": [],
   "source": []
  }
 ],
 "metadata": {
  "kernelspec": {
   "display_name": "segysak",
   "language": "python",
   "name": "segysak"
  },
  "language_info": {
   "codemirror_mode": {
    "name": "ipython",
    "version": 3
   },
   "file_extension": ".py",
   "mimetype": "text/x-python",
   "name": "python",
   "nbconvert_exporter": "python",
   "pygments_lexer": "ipython3",
   "version": "3.7.9"
  }
 },
 "nbformat": 4,
 "nbformat_minor": 4
}
