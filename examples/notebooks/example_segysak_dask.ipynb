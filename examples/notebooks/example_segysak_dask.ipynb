{
 "cells": [
  {
   "cell_type": "markdown",
   "metadata": {},
   "source": [
    "# Using **dask**\n",
    "\n",
    "[dask](https://dask.org/) is a Python package build upon the scientific stack to enable scalling of Python through interactive sessions to multi-core and multi-node.\n",
    "\n",
    "Of particular relevance to **SEGY-SAK** is that `xrray.Dataset` loads naturally into `dask`."
   ]
  },
  {
   "cell_type": "markdown",
   "metadata": {},
   "source": [
    "## Imports and Setup\n",
    "\n",
    "Here we import the plotting tools, `numpy` and setup the `dask.Client` which will auto start a `localcluster`. Printing the client returns details about the dashboard link and resources."
   ]
  },
  {
   "cell_type": "code",
   "execution_count": null,
   "metadata": {
    "nbsphinx": "hidden"
   },
   "outputs": [],
   "source": [
    "import warnings\n",
    "warnings.filterwarnings('ignore')"
   ]
  },
  {
   "cell_type": "code",
   "execution_count": null,
   "metadata": {},
   "outputs": [],
   "source": [
    "import numpy as np\n",
    "from segysak import open_seisnc, segy\n",
    "\n",
    "import matplotlib.pyplot as plt\n",
    "%matplotlib inline"
   ]
  },
  {
   "cell_type": "code",
   "execution_count": null,
   "metadata": {},
   "outputs": [],
   "source": [
    "from dask.distributed import Client\n",
    "\n",
    "client = Client()\n",
    "client"
   ]
  },
  {
   "cell_type": "markdown",
   "metadata": {},
   "source": [
    "We can also scale the cluster to be a bit smaller."
   ]
  },
  {
   "cell_type": "code",
   "execution_count": null,
   "metadata": {},
   "outputs": [],
   "source": [
    "client.cluster.scale(2, memory='0.5gb')\n",
    "client"
   ]
  },
  {
   "cell_type": "markdown",
   "metadata": {},
   "source": [
    "## Lazy loading from SEISNC using chunking\n",
    "\n",
    "If your data is in SEG-Y to use dask it must be converted to SEISNC. If you do this with the CLI it only need happen once."
   ]
  },
  {
   "cell_type": "code",
   "execution_count": null,
   "metadata": {},
   "outputs": [],
   "source": [
    "segy_file = '../data/volve10r12-full-twt-sub3d.sgy'\n",
    "seisnc_file = '../data/volve10r12-full-twt-sub3d.seisnc'\n",
    "segy.segy_converter(segy_file, seisnc_file, iline=189, xline=193, cdpx=181, cdpy=185, silent=True)"
   ]
  },
  {
   "cell_type": "markdown",
   "metadata": {},
   "source": [
    "By specifying the chunks argument to the `open_seisnc` command we can ask dask to fetch the data in chunks of size *n*. In this example the `iline` dimension will be chunked in groups of 100. The valid arguments to chunks depends on the dataset but any dimension can be used.\n",
    "\n",
    "Even though the seis of the dataset is `2.14GB` it hasn't yet been loaded into memory, not will `dask` load it entirely unless the operation demands it."
   ]
  },
  {
   "cell_type": "code",
   "execution_count": null,
   "metadata": {},
   "outputs": [],
   "source": [
    "seisnc = open_seisnc('../data/volve10r12-full-twt-sub3d.seisnc', chunks={'iline':100})\n",
    "seisnc.seis.humanbytes"
   ]
  },
  {
   "cell_type": "markdown",
   "metadata": {},
   "source": [
    "Lets see what our dataset looks like. See that the variables are `dask.array`. This means they are references to the on disk data. The dimensions must be loaded so `dask` knows how to manage your dataset."
   ]
  },
  {
   "cell_type": "code",
   "execution_count": null,
   "metadata": {},
   "outputs": [],
   "source": [
    "seisnc"
   ]
  },
  {
   "cell_type": "markdown",
   "metadata": {},
   "source": [
    "## Operations on SEISNC using `dask`\n",
    "\n",
    "In this simple example we calculate the mean, of the entire cube. If you check the dashboard (when running this example yourself). You can see the task graph and task stream execution."
   ]
  },
  {
   "cell_type": "code",
   "execution_count": null,
   "metadata": {},
   "outputs": [],
   "source": [
    "mean = seisnc.data.mean()\n",
    "mean"
   ]
  },
  {
   "cell_type": "markdown",
   "metadata": {},
   "source": [
    "Whoa-oh, the mean is what? Yeah, `dask` won't calculate anything until you ask it to. This means you can string computations together into a task graph for lazy evaluation. To get the mean try this"
   ]
  },
  {
   "cell_type": "code",
   "execution_count": null,
   "metadata": {},
   "outputs": [],
   "source": [
    "mean.compute().values"
   ]
  },
  {
   "cell_type": "markdown",
   "metadata": {},
   "source": [
    "## Plotting with `dask`\n",
    "\n",
    "The lazy loading of data means we can plot what we want using `xarray` style slicing and `dask` will fetch only the data we need."
   ]
  },
  {
   "cell_type": "code",
   "execution_count": null,
   "metadata": {},
   "outputs": [],
   "source": [
    "fig, axs = plt.subplots(nrows=2, ncols=3, figsize=(20, 10))\n",
    "\n",
    "iline = seisnc.sel(iline = 10100).transpose('twt', 'xline').data\n",
    "xline = seisnc.sel(xline = 2349).transpose('twt', 'iline').data\n",
    "zslice = seisnc.sel(twt = 2900, method='nearest').transpose('iline', 'xline').data\n",
    "\n",
    "q = iline.quantile([0, 0.001, 0.5, 0.999, 1]).values\n",
    "rq = np.max(np.abs([q[1], q[-2]]))\n",
    "\n",
    "iline.plot(robust=True, ax=axs[0, 0], yincrease=False)\n",
    "xline.plot(robust=True, ax=axs[0, 1], yincrease=False)\n",
    "zslice.plot(robust=True, ax=axs[0, 2])\n",
    "\n",
    "imshow_kwargs = dict(\n",
    "    cmap='seismic', aspect='auto', vmin=-rq, vmax=rq, interpolation='bicubic'\n",
    ")\n",
    "\n",
    "axs[1, 0].imshow(iline.values, **imshow_kwargs)\n",
    "axs[1, 0].set_title('iline')\n",
    "axs[1, 1].imshow(xline.values, **imshow_kwargs)\n",
    "axs[1, 1].set_title('xline')\n",
    "axs[1, 2].imshow(zslice.values, origin='lower', **imshow_kwargs)\n",
    "axs[1, 2].set_title('twt')"
   ]
  }
 ],
 "metadata": {
  "kernelspec": {
   "display_name": "Python 3",
   "language": "python",
   "name": "python3"
  },
  "language_info": {
   "codemirror_mode": {
    "name": "ipython",
    "version": 3
   },
   "file_extension": ".py",
   "mimetype": "text/x-python",
   "name": "python",
   "nbconvert_exporter": "python",
   "pygments_lexer": "ipython3",
   "version": "3.7.6"
  }
 },
 "nbformat": 4,
 "nbformat_minor": 4
}
