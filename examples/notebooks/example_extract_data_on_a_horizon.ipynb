{
 "cells": [
  {
   "cell_type": "markdown",
   "metadata": {},
   "source": [
    "# Extract data at the intersection of a horizon and 3D volume"
   ]
  },
  {
   "cell_type": "code",
   "execution_count": null,
   "metadata": {
    "nbsphinx": "hidden"
   },
   "outputs": [],
   "source": [
    "import warnings\n",
    "warnings.filterwarnings('ignore')"
   ]
  },
  {
   "cell_type": "code",
   "execution_count": null,
   "metadata": {},
   "outputs": [],
   "source": [
    "%load_ext autoreload\n",
    "%autoreload 2\n",
    "\n",
    "import matplotlib.pyplot as plt\n",
    "%matplotlib inline\n",
    "\n",
    "from segysak.segy import segy_loader, get_segy_texthead, segy_header_scan, segy_header_scrape\n",
    "\n",
    "from os import path"
   ]
  },
  {
   "cell_type": "markdown",
   "metadata": {},
   "source": [
    "## Load Small 3D Volume from Volve"
   ]
  },
  {
   "cell_type": "code",
   "execution_count": null,
   "metadata": {},
   "outputs": [],
   "source": [
    "volve_3d_path = path.join(\"..\", \"data\", \"volve10r12-full-twt-sub3d.sgy\")\n",
    "print(\"3D\", volve_3d_path, path.exists(volve_3d_path))"
   ]
  },
  {
   "cell_type": "code",
   "execution_count": null,
   "metadata": {},
   "outputs": [],
   "source": [
    "get_segy_texthead(volve_3d_path)"
   ]
  },
  {
   "cell_type": "code",
   "execution_count": null,
   "metadata": {},
   "outputs": [],
   "source": [
    "from segysak.segy import well_known_byte_locs\n",
    "\n",
    "volve_3d = segy_loader(volve_3d_path, **well_known_byte_locs(\"petrel_3d\"))\n",
    "volve_3d.data"
   ]
  },
  {
   "cell_type": "markdown",
   "metadata": {},
   "source": [
    "## Load up horizon data"
   ]
  },
  {
   "cell_type": "code",
   "execution_count": null,
   "metadata": {},
   "outputs": [],
   "source": [
    "top_hugin_path = path.join(\"..\", \"data\", \"hor_twt_hugin_fm_top.dat\")\n",
    "print(\"Top Hugin\", top_hugin_path, path.exists(top_hugin_path))"
   ]
  },
  {
   "cell_type": "code",
   "execution_count": null,
   "metadata": {},
   "outputs": [],
   "source": [
    "import pandas as pd\n",
    "\n",
    "top_hugin_df = pd.read_csv(top_hugin_path, names=[\"cdp_x\",\"cdp_y\",\"twt\"], sep=' ')\n",
    "top_hugin_df.head()"
   ]
  },
  {
   "cell_type": "markdown",
   "metadata": {},
   "source": [
    "Would be good to plot a seismic (iline,xline) section in Pyvista as well"
   ]
  },
  {
   "cell_type": "code",
   "execution_count": null,
   "metadata": {},
   "outputs": [],
   "source": [
    "# import pyvista as pv\n",
    "\n",
    "# point_cloud = pv.PolyData(-1*top_hugin_df.to_numpy(), cmap='viridis')\n",
    "# point_cloud.plot(eye_dome_lighting=True)"
   ]
  },
  {
   "cell_type": "markdown",
   "metadata": {},
   "source": [
    "Alternative we can use the points to output a `xarray.Dataset` which comes with coordinates for plotting already gridded up for Pyvista."
   ]
  },
  {
   "cell_type": "code",
   "execution_count": null,
   "metadata": {},
   "outputs": [],
   "source": [
    "top_hugin_ds = volve_3d.seis.surface_from_points(top_hugin_df, 'twt', right=('cdp_x', 'cdp_y'))\n",
    "top_hugin_ds"
   ]
  },
  {
   "cell_type": "code",
   "execution_count": null,
   "metadata": {},
   "outputs": [],
   "source": [
    "# the twt values from the points now in a form we can relate to the xarray cube.\n",
    "plt.imshow(top_hugin_ds.twt)"
   ]
  },
  {
   "cell_type": "code",
   "execution_count": null,
   "metadata": {},
   "outputs": [],
   "source": [
    "# point_cloud = pv.StructuredGrid(\n",
    "#     top_hugin_ds.cdp_x.values,\n",
    "#     top_hugin_ds.cdp_y.values,top_hugin_ds.twt.values,\n",
    "#     cmap='viridis')\n",
    "# point_cloud.plot(eye_dome_lighting=True)"
   ]
  },
  {
   "cell_type": "markdown",
   "metadata": {},
   "source": [
    "## Horizon Amplitude Extraction"
   ]
  },
  {
   "cell_type": "markdown",
   "metadata": {},
   "source": [
    "Extracting horizon amplitudes requires us to interpolate the cube onto the 3D horizon."
   ]
  },
  {
   "cell_type": "code",
   "execution_count": null,
   "metadata": {},
   "outputs": [],
   "source": [
    "top_hugin_amp = volve_3d.data.interp({'iline':top_hugin_ds.iline, 'xline':top_hugin_ds.xline, 'twt':top_hugin_ds.twt})"
   ]
  },
  {
   "cell_type": "code",
   "execution_count": null,
   "metadata": {},
   "outputs": [],
   "source": [
    "# \n",
    "fig = plt.figure(figsize=(15, 5))\n",
    "top_hugin_amp.plot(cmap='bwr')\n",
    "cs = plt.contour(top_hugin_amp.xline, top_hugin_amp.iline, top_hugin_ds.twt, levels=20, colors='grey')\n",
    "plt.clabel(cs, fontsize=14, fmt='%.1f')"
   ]
  }
 ],
 "metadata": {
  "kernelspec": {
   "display_name": "Python 3",
   "language": "python",
   "name": "python3"
  },
  "language_info": {
   "codemirror_mode": {
    "name": "ipython",
    "version": 3
   },
   "file_extension": ".py",
   "mimetype": "text/x-python",
   "name": "python",
   "nbconvert_exporter": "python",
   "pygments_lexer": "ipython3",
   "version": "3.7.6"
  }
 },
 "nbformat": 4,
 "nbformat_minor": 4
}
