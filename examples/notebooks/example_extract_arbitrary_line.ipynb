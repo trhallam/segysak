{
 "cells": [
  {
   "cell_type": "markdown",
   "metadata": {},
   "source": [
    "# Extract an arbitrary line from a 3D volume\n",
    "\n",
    "Arbitrary lines are often defined as peicewise lines on time/z slices or basemap views that draw a path through features of interest or for example betweem well locations.\n",
    "\n",
    "By extracting an arbitrary line we hope to end up with a uniformly sampled vertical section of data that traverses the path where the sampling interval is. of the order of the bin interval of the dataset\n",
    "\n"
   ]
  },
  {
   "cell_type": "code",
   "execution_count": 1,
   "metadata": {},
   "outputs": [],
   "source": [
    "%load_ext autoreload\n",
    "%autoreload 2\n",
    "\n",
    "from os import path"
   ]
  },
  {
   "cell_type": "markdown",
   "metadata": {},
   "source": [
    "## Load Small 3D Volume from Volve"
   ]
  },
  {
   "cell_type": "code",
   "execution_count": 2,
   "metadata": {},
   "outputs": [
    {
     "name": "stdout",
     "output_type": "stream",
     "text": [
      "3D ../data/volve10r12-full-twt-sub3d.sgy True\n"
     ]
    }
   ],
   "source": [
    "volve_3d_path = path.join(\"..\", \"data\", \"volve10r12-full-twt-sub3d.sgy\")\n",
    "print(\"3D\", volve_3d_path, path.exists(volve_3d_path))"
   ]
  },
  {
   "cell_type": "code",
   "execution_count": 3,
   "metadata": {},
   "outputs": [
    {
     "name": "stderr",
     "output_type": "stream",
     "text": [
      "/Users/stevejpurves/dev/swung/segysak/segysak/_accessor.py:110: AccessorRegistrationWarning: registration of accessor <class 'segysak._accessor.SeisArbLine'> under name 'seis' for type <class 'xarray.core.dataset.Dataset'> is overriding a preexisting attribute with the same name.\n",
      "  @xr.register_dataset_accessor(\"seis\")\n"
     ]
    },
    {
     "data": {
      "application/vnd.jupyter.widget-view+json": {
       "model_id": "3924c11268b346e3a6dd30d026cb4f68",
       "version_major": 2,
       "version_minor": 0
      },
      "text/plain": [
       "HBox(children=(FloatProgress(value=0.0, description='Scraping Headers', max=12322.0, style=ProgressStyle(descr…"
      ]
     },
     "metadata": {},
     "output_type": "display_data"
    },
    {
     "name": "stdout",
     "output_type": "stream",
     "text": [
      "\n",
      "Fast direction is CDP\n"
     ]
    },
    {
     "data": {
      "application/vnd.jupyter.widget-view+json": {
       "model_id": "08ce477c87484c4ba12f537b0ede8fc8",
       "version_major": 2,
       "version_minor": 0
      },
      "text/plain": [
       "HBox(children=(FloatProgress(value=0.0, description='Converting SEGY', max=12322.0, style=ProgressStyle(descri…"
      ]
     },
     "metadata": {},
     "output_type": "display_data"
    },
    {
     "name": "stdout",
     "output_type": "stream",
     "text": [
      "\n"
     ]
    }
   ],
   "source": [
    "from segysak.segy import segy_loader, get_segy_texthead, segy_header_scan, segy_header_scrape, well_known_byte_locs\n",
    "\n",
    "volve_3d = segy_loader(volve_3d_path, **well_known_byte_locs(\"petrel_3d\"))"
   ]
  },
  {
   "cell_type": "code",
   "execution_count": 4,
   "metadata": {},
   "outputs": [
    {
     "data": {
      "text/plain": [
       "10090"
      ]
     },
     "execution_count": 4,
     "metadata": {},
     "output_type": "execute_result"
    }
   ],
   "source": [
    "volve_3d.coords[\"iline\"].min().item()"
   ]
  },
  {
   "cell_type": "code",
   "execution_count": 5,
   "metadata": {},
   "outputs": [],
   "source": [
    "from types import SimpleNamespace\n",
    "import numpy as np\n",
    "\n",
    "def get_survey_extents(seismic_3d):\n",
    "    return SimpleNamespace(\n",
    "        iline=(seismic_3d.coords[\"iline\"].min().item(), seismic_3d.coords[\"iline\"].max().item()),\n",
    "        xline=(seismic_3d.coords[\"xline\"].min().item(), seismic_3d.coords[\"xline\"].max().item())\n",
    "    )\n",
    "\n",
    "def sel(seismic_3d, name, iline, xline):\n",
    "    return seismic_3d[name].sel(iline=iline, xline=xline)\n",
    "\n",
    "def sel_point(seismic_3d, iline, xline):\n",
    "    return SimpleNamespace(\n",
    "        cdp_x=sel(seismic_3d, \"cdp_x\", iline, xline).values.item(),\n",
    "        cdp_y=sel(seismic_3d, \"cdp_y\", iline, xline).values.item(),\n",
    "        iline=iline, xline=xline)\n",
    "\n",
    "def get_survey_bounding_box(seismic_3d):\n",
    "    extents = get_survey_extents(seismic_3d)\n",
    "    \n",
    "    P0 = sel_point(seismic_3d, extents.iline[0], extents.xline[0])\n",
    "    P1 = sel_point(seismic_3d, extents.iline[0], extents.xline[1])\n",
    "    P2 = sel_point(seismic_3d, extents.iline[1], extents.xline[1])\n",
    "    P3 = sel_point(seismic_3d, extents.iline[1], extents.xline[0])\n",
    "    \n",
    "    return np.array([P0, P1, P2, P3])"
   ]
  },
  {
   "cell_type": "code",
   "execution_count": 6,
   "metadata": {},
   "outputs": [
    {
     "data": {
      "text/plain": [
       "namespace(cdp_x=436403.54000000004, cdp_y=6477459.17, iline=10091, xline=2150)"
      ]
     },
     "execution_count": 6,
     "metadata": {},
     "output_type": "execute_result"
    }
   ],
   "source": [
    "get_survey_extents(volve_3d)\n",
    "sel(volve_3d, \"cdp_x\", iline=10091, xline=2150)\n",
    "sel_point(volve_3d, iline=10091, xline=2150)"
   ]
  },
  {
   "cell_type": "code",
   "execution_count": 7,
   "metadata": {},
   "outputs": [],
   "source": [
    "bb = get_survey_bounding_box(volve_3d)"
   ]
  },
  {
   "cell_type": "code",
   "execution_count": 8,
   "metadata": {},
   "outputs": [
    {
     "name": "stdout",
     "output_type": "stream",
     "text": [
      "(namespace(cdp_x=436400.52, cdp_y=6477447.04, iline=10090, xline=2150), namespace(cdp_x=433962.67, cdp_y=6478054.94, iline=10090, xline=2351))\n",
      "(namespace(cdp_x=433962.67, cdp_y=6478054.94, iline=10090, xline=2351), namespace(cdp_x=434144.13, cdp_y=6478782.66, iline=10150, xline=2351))\n",
      "(namespace(cdp_x=434144.13, cdp_y=6478782.66, iline=10150, xline=2351), namespace(cdp_x=436581.98, cdp_y=6478174.76, iline=10150, xline=2150))\n",
      "(namespace(cdp_x=436581.98, cdp_y=6478174.76, iline=10150, xline=2150), namespace(cdp_x=436400.52, cdp_y=6477447.04, iline=10090, xline=2150))\n"
     ]
    }
   ],
   "source": [
    "for b in zip(bb, np.roll(bb, -1)):\n",
    "    print(b)"
   ]
  },
  {
   "cell_type": "code",
   "execution_count": 9,
   "metadata": {},
   "outputs": [],
   "source": [
    "import matplotlib.pyplot as plt\n",
    "import matplotlib.lines as mlines\n",
    "\n",
    "def plot_bounds(seismic_3d, ax=None):\n",
    "    bb = get_survey_bounding_box(seismic_3d)\n",
    "    \n",
    "    if not ax:\n",
    "        fig, ax = plt.subplots(1,1)\n",
    "        \n",
    "    ax.scatter([b.cdp_x for b in bb],[b.cdp_y for b in bb])\n",
    "    for pa, pb in zip(bb, np.roll(bb, -1)):\n",
    "        ax.plot([pa.cdp_x, pb.cdp_x], [pa.cdp_y, pb.cdp_y], 'k:')\n",
    "        \n",
    "    ax.set_xlabel('cdp x')\n",
    "    ax.set_ylabel('cdp y')\n",
    "    return ax"
   ]
  },
  {
   "cell_type": "code",
   "execution_count": 21,
   "metadata": {},
   "outputs": [],
   "source": [
    "arb_line_in = (np.array([434300, 434600, 435500, 436300]), np.array([6.4786e6, 6.4780e6, 6.4779e6, 6.4781e6]))\n",
    "arb_line_out = (np.array([434000, 434600, 435500, 436500]), np.array([6.4786e6, 6.4776e6, 6.4786e6, 6.4775e6]))"
   ]
  },
  {
   "cell_type": "code",
   "execution_count": 22,
   "metadata": {},
   "outputs": [
    {
     "data": {
      "text/plain": [
       "[<matplotlib.lines.Line2D at 0x12b665e90>]"
      ]
     },
     "execution_count": 22,
     "metadata": {},
     "output_type": "execute_result"
    },
    {
     "data": {
      "image/png": "[encoded data removed]",
      "text/plain": [
       "<Figure size 432x288 with 1 Axes>"
      ]
     },
     "metadata": {
      "needs_background": "light"
     },
     "output_type": "display_data"
    }
   ],
   "source": [
    "ax = plot_bounds(volve_3d)\n",
    "ax.plot(arb_line_in[0], arb_line_in[1], '.-')\n",
    "ax.plot(arb_line_out[0], arb_line_out[1], '.-')"
   ]
  },
  {
   "cell_type": "code",
   "execution_count": 23,
   "metadata": {},
   "outputs": [
    {
     "data": {
      "text/plain": [
       "(array([10138.83864289, 10098.07144973, 10107.72966132, 10138.73932208]),\n",
       " array([2335.36543294, 2300.46467376, 2228.66861198, 2170.44106726]))"
      ]
     },
     "execution_count": 23,
     "metadata": {},
     "output_type": "execute_result"
    }
   ],
   "source": [
    "volve_3d.seis.line_interp(arb_line_in[0], arb_line_in[1])"
   ]
  },
  {
   "cell_type": "code",
   "execution_count": 25,
   "metadata": {},
   "outputs": [],
   "source": [
    "norm_line = (arb_line_in[0]-arb_line_in[0][0], arb_line_in[1]-arb_line_in[1][0])\n",
    "norm_path = [(x**2 + y**2)**0.5 for x,y in zip(*norm_line)]"
   ]
  },
  {
   "cell_type": "code",
   "execution_count": 39,
   "metadata": {},
   "outputs": [
    {
     "name": "stdout",
     "output_type": "stream",
     "text": [
      "8.052940675034494\n"
     ]
    }
   ],
   "source": [
    "from scipy.interpolate import interp1d\n",
    "\n",
    "bin_spacing = 8\n",
    "num_pts = int(norm_path[-1] / bin_spacing)\n",
    "\n",
    "new_path, spacing = np.linspace(0, norm_path[-1], num_pts, retstep=True)\n",
    "\n",
    "cdp_x_interpolator = interp1d(norm_path, arb_line_in[0])(new_path)\n",
    "cdp_y_interpolator = interp1d(norm_path, arb_line_in[1])(new_path)\n",
    "\n",
    "print(spacing)"
   ]
  },
  {
   "cell_type": "code",
   "execution_count": null,
   "metadata": {},
   "outputs": [],
   "source": []
  },
  {
   "cell_type": "code",
   "execution_count": null,
   "metadata": {},
   "outputs": [],
   "source": []
  },
  {
   "cell_type": "code",
   "execution_count": null,
   "metadata": {},
   "outputs": [],
   "source": []
  },
  {
   "cell_type": "code",
   "execution_count": null,
   "metadata": {},
   "outputs": [],
   "source": []
  }
 ],
 "metadata": {
  "kernelspec": {
   "display_name": "Python 3",
   "language": "python",
   "name": "python3"
  },
  "language_info": {
   "codemirror_mode": {
    "name": "ipython",
    "version": 3
   },
   "file_extension": ".py",
   "mimetype": "text/x-python",
   "name": "python",
   "nbconvert_exporter": "python",
   "pygments_lexer": "ipython3",
   "version": "3.7.6"
  }
 },
 "nbformat": 4,
 "nbformat_minor": 4
}
