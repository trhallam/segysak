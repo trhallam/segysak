{
 "cells": [
  {
   "cell_type": "markdown",
   "metadata": {},
   "source": [
    "# Extract an arbitrary line from a 3D volume\n",
    "\n",
    "Arbitrary lines are often defined as peicewise lines on time/z slices or basemap views that draw a path through features of interest or for example betweem well locations.\n",
    "\n",
    "By extracting an arbitrary line we hope to end up with a uniformly sampled vertical section of data that traverses the path where the sampling interval is. of the order of the bin interval of the dataset\n",
    "\n"
   ]
  },
  {
   "cell_type": "code",
   "execution_count": null,
   "metadata": {
    "nbsphinx": "hidden"
   },
   "outputs": [],
   "source": [
    "import warnings\n",
    "warnings.filterwarnings('ignore')"
   ]
  },
  {
   "cell_type": "code",
   "execution_count": null,
   "metadata": {},
   "outputs": [],
   "source": [
    "from os import path\n",
    "import numpy as np\n",
    "import matplotlib.pyplot as plt"
   ]
  },
  {
   "cell_type": "markdown",
   "metadata": {},
   "source": [
    "## Load Small 3D Volume from Volve"
   ]
  },
  {
   "cell_type": "code",
   "execution_count": null,
   "metadata": {},
   "outputs": [],
   "source": [
    "volve_3d_path = path.join(\"..\", \"data\", \"volve10r12-full-twt-sub3d.sgy\")\n",
    "print(f\"{volve_3d_path} exists: {path.exists(volve_3d_path)}\")"
   ]
  },
  {
   "cell_type": "code",
   "execution_count": null,
   "metadata": {},
   "outputs": [],
   "source": [
    "from segysak.segy import segy_loader, get_segy_texthead, segy_header_scan, segy_header_scrape, well_known_byte_locs\n",
    "\n",
    "volve_3d = segy_loader(volve_3d_path, **well_known_byte_locs(\"petrel_3d\"))"
   ]
  },
  {
   "cell_type": "markdown",
   "metadata": {},
   "source": [
    "## Arbitrary Lines\n",
    "\n",
    "We define a line by as lists of cdp_x & cdp_y points. These can be inside or outside of the survey, but oviously should intersect it in order to be useful."
   ]
  },
  {
   "cell_type": "code",
   "execution_count": null,
   "metadata": {},
   "outputs": [],
   "source": [
    "arb_line_A = (np.array([434300, 434600, 435500, 436300]), np.array([6.4786e6, 6.4780e6, 6.4779e6, 6.4781e6]))\n",
    "arb_line_B = (np.array([434000, 434600, 435500, 436500]), np.array([6.4786e6, 6.4776e6, 6.4786e6, 6.4775e6]))"
   ]
  },
  {
   "cell_type": "markdown",
   "metadata": {},
   "source": [
    "Let's see how these lines are placed relative to the survey bounds. We can see *A* is full enclosed whilst *B* has some segments outside."
   ]
  },
  {
   "cell_type": "code",
   "execution_count": null,
   "metadata": {},
   "outputs": [],
   "source": [
    "ax = volve_3d.seis.plot_bounds()\n",
    "ax.plot(arb_line_A[0], arb_line_A[1], '.-')\n",
    "ax.plot(arb_line_B[0], arb_line_B[1], '.-')"
   ]
  },
  {
   "cell_type": "markdown",
   "metadata": {},
   "source": [
    "Let's extract line A. \n",
    "\n",
    "We specify a `bin_spacing_hint` which is our desired bin spacing along the line. The function use this hint to calculate the closest binspacing that maintains uniform sampling.\n",
    "\n",
    "We have also specified the `method='linear'`, this is the default but you can specify and method that `DataArray.interp` accepts"
   ]
  },
  {
   "cell_type": "code",
   "execution_count": null,
   "metadata": {},
   "outputs": [],
   "source": [
    "from time import time\n",
    "\n",
    "tic = time()\n",
    "line_A = volve_3d.seis.interp_line(arb_line_A[0], arb_line_A[1], bin_spacing_hint=10)\n",
    "toc = time()\n",
    "print(f\"That took {toc-tic} seconds\")"
   ]
  },
  {
   "cell_type": "code",
   "execution_count": null,
   "metadata": {},
   "outputs": [],
   "source": [
    "plt.figure(figsize=(8,8))\n",
    "plt.imshow(line_A.to_array().squeeze().T, aspect=\"auto\", cmap=\"RdBu\", vmin=-10, vmax=10)"
   ]
  },
  {
   "cell_type": "code",
   "execution_count": null,
   "metadata": {},
   "outputs": [],
   "source": [
    "tic = time()\n",
    "line_B = volve_3d.seis.interp_line(arb_line_B[0], arb_line_B[1], bin_spacing_hint=10)\n",
    "toc = time()\n",
    "print(f\"That took {toc-tic} seconds\")"
   ]
  },
  {
   "cell_type": "code",
   "execution_count": null,
   "metadata": {},
   "outputs": [],
   "source": [
    "plt.figure(figsize=(10,8))\n",
    "plt.imshow(line_B.to_array().squeeze().T, aspect=\"auto\", cmap=\"RdBu\", vmin=-10, vmax=10)"
   ]
  },
  {
   "cell_type": "markdown",
   "metadata": {},
   "source": [
    "## Petrel Shapefile\n",
    "\n",
    "We have an arbitrary line geometry defined over this small survey region stored in a shape file exported from Petrel. \n",
    "\n",
    "Let's load that and extract an arbirary line using segysak. We also have the seismic data extracted along that line by Petrel, so we can see how that compares."
   ]
  },
  {
   "cell_type": "code",
   "execution_count": null,
   "metadata": {},
   "outputs": [],
   "source": [
    "import shapefile\n",
    "from pprint import pprint"
   ]
  },
  {
   "cell_type": "markdown",
   "metadata": {},
   "source": [
    "Load the shapefile and get the list of points"
   ]
  },
  {
   "cell_type": "code",
   "execution_count": null,
   "metadata": {},
   "outputs": [],
   "source": [
    "sf = shapefile.Reader(path.join(\"..\",\"data\",\"arbitrary_line.shp\"))\n",
    "line_petrel = sf.shapes() \n",
    "print(f\"shapes are type {sf.shapeType} == POLYLINEZ\")\n",
    "print(f\"There are {len(sf.shapes())} shapes in here\")\n",
    "print(f\"The line has {len(sf.shape(0).points)} points\")\n",
    "\n",
    "points_from_shapefile = [list(t) for t in list(zip(*sf.shape(0).points))]\n",
    "pprint(points_from_shapefile)"
   ]
  },
  {
   "cell_type": "markdown",
   "metadata": {},
   "source": [
    "Load the segy containing the line thst Petrel exracted along this geometry"
   ]
  },
  {
   "cell_type": "code",
   "execution_count": null,
   "metadata": {},
   "outputs": [],
   "source": [
    "line_extracted_by_petrel_path = path.join(\"..\", \"data\", \"volve10r12-full-twt-arb.sgy\")\n",
    "print(f\"{line_extracted_by_petrel_path} exists: {path.exists(line_extracted_by_petrel_path)}\")\n",
    "line_extracted_by_petrel = segy_loader(line_extracted_by_petrel_path, **well_known_byte_locs(\"petrel_3d\"))"
   ]
  },
  {
   "cell_type": "markdown",
   "metadata": {},
   "source": [
    "Extract the line using segysak"
   ]
  },
  {
   "cell_type": "code",
   "execution_count": null,
   "metadata": {},
   "outputs": [],
   "source": [
    "tic = time()\n",
    "line_extracted_by_segysak = volve_3d.seis.interp_line(*points_from_shapefile,\n",
    "                                        bin_spacing_hint=10,\n",
    "                                        line_method='linear',\n",
    "                                        xysel_method='linear')\n",
    "toc = time()\n",
    "print(f\"That took {toc-tic} seconds\")"
   ]
  },
  {
   "cell_type": "markdown",
   "metadata": {},
   "source": [
    "Plot the extract lines side by side"
   ]
  },
  {
   "cell_type": "code",
   "execution_count": null,
   "metadata": {},
   "outputs": [],
   "source": [
    "fig, axs = plt.subplots(1,2, figsize=(16,8))\n",
    "\n",
    "axs[0].imshow(line_extracted_by_segysak.to_array().squeeze().T, aspect=\"auto\", cmap=\"RdBu\", vmin=-10, vmax=10)\n",
    "axs[0].set_title(\"segysak\")\n",
    "axs[1].imshow(line_extracted_by_petrel.to_array().squeeze().T, aspect=\"auto\", cmap=\"RdBu\", vmin=-10, vmax=10)\n",
    "axs[1].set_title(\"petrel\")"
   ]
  },
  {
   "cell_type": "markdown",
   "metadata": {},
   "source": [
    "Plot the geometry, trace header locatons along with the volve 3d bound box, tmo make sure things line up"
   ]
  },
  {
   "cell_type": "code",
   "execution_count": null,
   "metadata": {},
   "outputs": [],
   "source": [
    "plt.figure(figsize=(10,10))\n",
    "ax = volve_3d.seis.plot_bounds(ax=plt.gca())\n",
    "\n",
    "# plot path\n",
    "ax.plot(*points_from_shapefile)\n",
    "ax.scatter(*points_from_shapefile)\n",
    "\n",
    "# plot trace positons from extracted lines based on header\n",
    "ax.scatter(line_extracted_by_segysak.cdp_x, line_extracted_by_segysak.cdp_y, marker='x', color='k')\n",
    "ax.scatter(line_extracted_by_petrel.cdp_x, line_extracted_by_petrel.cdp_y, marker='+', color='r')\n",
    "\n",
    "ax.set_xlim(434500,435500)\n",
    "ax.set_ylim(6477800, 6478600)\n",
    "plt.legend(labels=['bounds','geom','corner','segysak','petrel'])"
   ]
  }
 ],
 "metadata": {
  "kernelspec": {
   "display_name": "Python 3",
   "language": "python",
   "name": "python3"
  },
  "language_info": {
   "codemirror_mode": {
    "name": "ipython",
    "version": 3
   },
   "file_extension": ".py",
   "mimetype": "text/x-python",
   "name": "python",
   "nbconvert_exporter": "python",
   "pygments_lexer": "ipython3",
   "version": "3.7.6"
  }
 },
 "nbformat": 4,
 "nbformat_minor": 4
}
