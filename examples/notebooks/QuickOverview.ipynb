{
 "cells": [
  {
   "cell_type": "markdown",
   "metadata": {},
   "source": [
    "# Quick Overview\n",
    "\n",
    "Here you can find some quick examples of what you can do with segysak. For more details refer to the [examples](../../examples.html)."
   ]
  },
  {
   "cell_type": "markdown",
   "metadata": {},
   "source": [
    "The library is imported as *segysak* and the loaded `xarray` objects are compatible with *numpy* and *matplotlib*.\n",
    "\n",
    "The cropped volume from the Volve field in the North Sea (made available by Equinor) is used for this example, and\n",
    "all the examples and data in this documentation are available from the `examples` folder of the \n",
    "[Github](https://github.com/trhallam/segysak) respository."
   ]
  },
  {
   "cell_type": "code",
   "execution_count": null,
   "metadata": {
    "nbsphinx": "hidden"
   },
   "outputs": [],
   "source": [
    "import warnings\n",
    "warnings.filterwarnings('ignore')"
   ]
  },
  {
   "cell_type": "code",
   "execution_count": null,
   "metadata": {
    "scrolled": true
   },
   "outputs": [],
   "source": [
    "import segysak as sg\n",
    "import numpy as np\n",
    "import matplotlib.pyplot as plt\n",
    "import pathlib"
   ]
  },
  {
   "cell_type": "code",
   "execution_count": null,
   "metadata": {},
   "outputs": [],
   "source": [
    "V3D_path = pathlib.Path(\"../data/volve10r12-full-twt-sub3d.sgy\")\n",
    "print(\"3D\", V3D_path, V3D_path.exists())"
   ]
  },
  {
   "cell_type": "markdown",
   "metadata": {},
   "source": [
    "## Scan SEGY headers\n"
   ]
  },
  {
   "cell_type": "markdown",
   "metadata": {},
   "source": [
    "A basic operation would be to check the text header included in the SEG-Y file. The *get_segy_texthead*\n",
    "function accounts for commong encoding issues and returns the header as a text string."
   ]
  },
  {
   "cell_type": "code",
   "execution_count": null,
   "metadata": {},
   "outputs": [],
   "source": [
    "from segysak.segy import get_segy_texthead\n",
    "get_segy_texthead(V3D_path)"
   ]
  },
  {
   "cell_type": "markdown",
   "metadata": {},
   "source": [
    "If you need to investigate the trace header data more deeply, then *segy_header_scan* can be used to report\n",
    "basic statistic of each byte position for a limited number of traces.\n",
    "\n",
    "*segy_header_scan* returns a `pandas.DataFrame`. To see the full DataFrame use the `pandas` option_context manager."
   ]
  },
  {
   "cell_type": "code",
   "execution_count": null,
   "metadata": {},
   "outputs": [],
   "source": [
    "from segysak.segy import segy_header_scan\n",
    "\n",
    "scan = segy_header_scan(V3D_path)\n",
    "scan"
   ]
  },
  {
   "cell_type": "markdown",
   "metadata": {},
   "source": [
    "The header report can also be reduced by filtering blank byte locations. Here we use the standard deviation `std`\n",
    "to filter away blank values which can help us to understand the composition of the data.\n",
    "\n",
    "For instance, key values like **trace UTM coordinates** are located in bytes *73* for X & *77* for Y. We\n",
    "can also see the byte positions of the **local grid** for INLINE_3D in byte *189* and for CROSSLINE_3D in byte *193*."
   ]
  },
  {
   "cell_type": "code",
   "execution_count": null,
   "metadata": {},
   "outputs": [],
   "source": [
    "scan[scan['std'] > 0]"
   ]
  },
  {
   "cell_type": "markdown",
   "metadata": {},
   "source": [
    "To retreive the raw header content use `segy_header_scrape`. Setting `partial_scan=None` will return the\n",
    "full dataframe of trace header information."
   ]
  },
  {
   "cell_type": "code",
   "execution_count": null,
   "metadata": {},
   "outputs": [],
   "source": [
    "from segysak.segy import segy_header_scrape\n",
    "scrape = segy_header_scrape(V3D_path, partial_scan=1000)\n",
    "scrape"
   ]
  },
  {
   "cell_type": "markdown",
   "metadata": {},
   "source": [
    "## Load SEG-Y data "
   ]
  },
  {
   "cell_type": "markdown",
   "metadata": {},
   "source": [
    "All SEGY (2D, 2D gathers, 3D & 3D gathers) are ingested into `xarray.Dataset` objects through the\n",
    "`segy_loader` function. It is best to be explicit about the byte locations of key information but\n",
    "`segy_loader` can attempt to guess the shape of your dataset. Some standard byte positions are\n",
    "defined in the `well_known_bytes` function and others can be added via pull requests to the Github\n",
    "repository if desired."
   ]
  },
  {
   "cell_type": "code",
   "execution_count": null,
   "metadata": {},
   "outputs": [],
   "source": [
    "from segysak.segy import segy_loader, well_known_byte_locs\n",
    "V3D = segy_loader(V3D_path, iline = 189,  xline = 193, cdpx = 73, cdpy = 77, vert_domain='TWT')\n",
    "V3D"
   ]
  },
  {
   "cell_type": "markdown",
   "metadata": {},
   "source": [
    "## Visualising data\n",
    "\n",
    "`xarray` objects use smart label based indexing techniques to retreive subsets of data. More\n",
    "details on `xarray` techniques for *segysak* are covered in the examples, but this demonstrates\n",
    "a general syntax for selecting data by label with `xarray`. Plottnig is done by `matploblib` and\n",
    "`xarray` selections can be passed to normal `matplotlib.pyplot` functions."
   ]
  },
  {
   "cell_type": "code",
   "execution_count": null,
   "metadata": {},
   "outputs": [],
   "source": [
    "fig, ax1 = plt.subplots(ncols=1, figsize = (15,8))\n",
    "iline_sel = 10093\n",
    "V3D.data.transpose('twt', 'iline', 'xline', transpose_coords=True).sel(iline = iline_sel).plot(yincrease=False, cmap = 'seismic_r')\n",
    "plt.grid('grey')\n",
    "plt.ylabel('TWT')\n",
    "plt.xlabel('XLINE')"
   ]
  }
 ],
 "metadata": {
  "kernelspec": {
   "display_name": "Python 3",
   "language": "python",
   "name": "python3"
  },
  "language_info": {
   "codemirror_mode": {
    "name": "ipython",
    "version": 3
   },
   "file_extension": ".py",
   "mimetype": "text/x-python",
   "name": "python",
   "nbconvert_exporter": "python",
   "pygments_lexer": "ipython3",
   "version": "3.7.6"
  }
 },
 "nbformat": 4,
 "nbformat_minor": 4
}
