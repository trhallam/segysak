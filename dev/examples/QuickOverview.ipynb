{
 "cells": [
  {
   "cell_type": "markdown",
   "id": "91e0d762",
   "metadata": {},
   "source": [
    "# Quick Overview\n",
    "\n",
    "Here you can find some quick examples of what you can do with segysak. For more details refer to the [examples](../examples.html)."
   ]
  },
  {
   "cell_type": "markdown",
   "id": "c0d45ae0",
   "metadata": {},
   "source": [
    "The library is imported as *segysak* and the loaded `xarray` objects are compatible with *numpy* and *matplotlib*.\n",
    "\n",
    "The cropped volume from the Volve field in the North Sea (made available by Equinor) is used for this example, and\n",
    "all the examples and data in this documentation are available from the `examples` folder of the\n",
    "[Github](https://github.com/trhallam/segysak) respository."
   ]
  },
  {
   "cell_type": "code",
   "execution_count": null,
   "id": "7c8ddc6f",
   "metadata": {
    "nbsphinx": "hidden"
   },
   "outputs": [],
   "source": [
    "import warnings\n",
    "\n",
    "warnings.filterwarnings(\"ignore\")"
   ]
  },
  {
   "cell_type": "code",
   "execution_count": null,
   "id": "fc7da3a2",
   "metadata": {},
   "outputs": [],
   "source": [
    "import matplotlib.pyplot as plt\n",
    "import pathlib"
   ]
  },
  {
   "cell_type": "code",
   "execution_count": null,
   "id": "a0914bc4",
   "metadata": {},
   "outputs": [],
   "source": [
    "V3D_path = pathlib.Path(\"data/volve10r12-full-twt-sub3d.sgy\")\n",
    "print(\"3D\", V3D_path, V3D_path.exists())"
   ]
  },
  {
   "cell_type": "markdown",
   "id": "dc9317b9",
   "metadata": {},
   "source": [
    "## Scan SEG-Y headers\n"
   ]
  },
  {
   "cell_type": "markdown",
   "id": "0df868e2",
   "metadata": {},
   "source": [
    "A basic operation would be to check the text header included in the SEG-Y file. The *get_segy_texthead*\n",
    "function accounts for common encoding issues and returns the header as a text string."
   ]
  },
  {
   "cell_type": "code",
   "execution_count": null,
   "id": "b7565366",
   "metadata": {},
   "outputs": [],
   "source": [
    "from segysak.segy import get_segy_texthead\n",
    "\n",
    "get_segy_texthead(V3D_path)"
   ]
  },
  {
   "cell_type": "markdown",
   "id": "0e007c9c",
   "metadata": {},
   "source": [
    "If you need to investigate the trace header data more deeply, then *segy_header_scan* can be used to report\n",
    "basic statistics of each byte position for a limited number of traces.\n",
    "\n",
    "*segy_header_scan* returns a `pandas.DataFrame`. To see the full DataFrame use the `pandas` option_context manager."
   ]
  },
  {
   "cell_type": "code",
   "execution_count": null,
   "id": "f5620c09",
   "metadata": {},
   "outputs": [],
   "source": [
    "from segysak.segy import segy_header_scan\n",
    "\n",
    "scan = segy_header_scan(V3D_path)\n",
    "scan"
   ]
  },
  {
   "cell_type": "markdown",
   "id": "6e67a89f",
   "metadata": {},
   "source": [
    "The header report can also be reduced by filtering blank byte locations. Here we use the standard deviation `std`\n",
    "to filter away blank values which can help us to understand the composition of the data.\n",
    "\n",
    "For instance, key values like **trace UTM coordinates** are located in bytes *73* for X & *77* for Y. We\n",
    "can also see the byte positions of the **local grid** for INLINE_3D in byte *189* and for CROSSLINE_3D in byte *193*."
   ]
  },
  {
   "cell_type": "code",
   "execution_count": null,
   "id": "24e9d51f",
   "metadata": {},
   "outputs": [],
   "source": [
    "scan[scan[\"std\"] > 0]"
   ]
  },
  {
   "cell_type": "markdown",
   "id": "bbaf2616",
   "metadata": {},
   "source": [
    "To retreive the raw header content use `segy_header_scrape`. Setting `partial_scan=None` will return the\n",
    "full dataframe of trace header information."
   ]
  },
  {
   "cell_type": "code",
   "execution_count": null,
   "id": "e8de21aa",
   "metadata": {},
   "outputs": [],
   "source": [
    "from segysak.segy import segy_header_scrape\n",
    "\n",
    "scrape = segy_header_scrape(V3D_path, partial_scan=1000)\n",
    "scrape"
   ]
  },
  {
   "cell_type": "markdown",
   "id": "48e868ee",
   "metadata": {},
   "source": [
    "## Load SEG-Y data"
   ]
  },
  {
   "cell_type": "markdown",
   "id": "11ba852d",
   "metadata": {},
   "source": [
    "All SEG-Y (2D, 2D gathers, 3D & 3D gathers) are ingested into `xarray.Dataset` objects through the\n",
    "`segy_loader` function. It is best to be explicit about the byte locations of key information but\n",
    "`segy_loader` can attempt to guess the shape of your dataset. Some standard byte positions are\n",
    "defined in the `well_known_bytes` function and others can be added via pull requests to the Github\n",
    "repository if desired."
   ]
  },
  {
   "cell_type": "code",
   "execution_count": null,
   "id": "1aba4f5c",
   "metadata": {},
   "outputs": [],
   "source": [
    "from segysak.segy import segy_loader, well_known_byte_locs\n",
    "\n",
    "V3D = segy_loader(V3D_path, iline=189, xline=193, cdp_x=73, cdp_y=77, vert_domain=\"TWT\")\n",
    "V3D"
   ]
  },
  {
   "cell_type": "markdown",
   "id": "6126f035",
   "metadata": {},
   "source": [
    "## Visualising data\n",
    "\n",
    "`xarray` objects use smart label based indexing techniques to retreive subsets of data. More\n",
    "details on `xarray` techniques for *segysak* are covered in the examples, but this demonstrates\n",
    "a general syntax for selecting data by label with `xarray`. Plotting is done by `matploblib` and\n",
    "`xarray` selections can be passed to normal `matplotlib.pyplot` functions."
   ]
  },
  {
   "cell_type": "code",
   "execution_count": null,
   "id": "5a65ec7b",
   "metadata": {},
   "outputs": [],
   "source": [
    "fig, ax1 = plt.subplots(ncols=1, figsize=(15, 8))\n",
    "iline_sel = 10093\n",
    "V3D.data.transpose(\"twt\", \"iline\", \"xline\", transpose_coords=True).sel(\n",
    "    iline=iline_sel\n",
    ").plot(yincrease=False, cmap=\"seismic_r\")\n",
    "plt.grid(\"grey\")\n",
    "plt.ylabel(\"TWT\")\n",
    "plt.xlabel(\"XLINE\")"
   ]
  },
  {
   "cell_type": "markdown",
   "id": "bdcb22de",
   "metadata": {},
   "source": [
    "## Saving data to NetCDF4\n",
    "\n",
    "SEGYSAK offers a convenience utility to make saving to NetCDF4 simple. This is accesssed through the `seisio` accessor on the loaded\n",
    "SEG-Y or SEISNC volume. The `to_netcdf` method accepts the same arguments as the `xarray` version."
   ]
  },
  {
   "cell_type": "code",
   "execution_count": null,
   "id": "4b443d82",
   "metadata": {},
   "outputs": [],
   "source": [
    "V3D.seisio.to_netcdf(\"V3D.SEISNC\")"
   ]
  },
  {
   "cell_type": "markdown",
   "id": "f69d23c2",
   "metadata": {},
   "source": [
    "## Saving data to SEG-Y\n",
    "\n",
    "To return data to SEG-Y after modification use the `segy_writer` function. `segy_writer` takes as argument a SEISNC dataset which\n",
    "requires certain attributes be set. You can also specify the byte locations to write header information."
   ]
  },
  {
   "cell_type": "code",
   "execution_count": null,
   "id": "3ba02b7f",
   "metadata": {
    "tags": []
   },
   "outputs": [],
   "source": [
    "from segysak.segy import segy_writer\n",
    "\n",
    "segy_writer(\n",
    "    V3D, \"V3D.segy\", trace_header_map=dict(iline=5, xline=21)\n",
    ")  # Petrel Locations"
   ]
  }
 ],
 "metadata": {
  "jupytext": {
   "formats": "ipynb,py:percent"
  },
  "kernelspec": {
   "display_name": "Python 3 (ipykernel)",
   "language": "python",
   "name": "python3"
  }
 },
 "nbformat": 4,
 "nbformat_minor": 5
}
