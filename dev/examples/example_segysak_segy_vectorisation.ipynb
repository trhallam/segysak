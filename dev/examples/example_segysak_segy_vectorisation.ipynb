{
 "cells": [
  {
   "cell_type": "code",
   "execution_count": null,
   "id": "7dab77c9",
   "metadata": {},
   "outputs": [],
   "source": []
  },
  {
   "cell_type": "markdown",
   "id": "10feb4f7",
   "metadata": {},
   "source": [
    "# SEG-Y to Vector DataFrames and Back\n",
    "\n",
    "The connection of segysak to `xarray` greatly simplifies the process of vectorising segy 3D data and returning it to SEGY. To do this, one can use the close relationship between `pandas` and `xarray`.\n",
    "\n",
    "## Loading Data\n",
    "\n",
    "We start by loading data normally using the `segy_loader` utility. For this example we will use the Volve example sub-cube."
   ]
  },
  {
   "cell_type": "code",
   "execution_count": null,
   "id": "1c0b312c",
   "metadata": {},
   "outputs": [],
   "source": [
    "import pathlib\n",
    "from IPython.display import display\n",
    "from segysak.segy import segy_loader, well_known_byte_locs, segy_writer\n",
    "\n",
    "volve_3d_path = pathlib.Path(\"data/volve10r12-full-twt-sub3d.sgy\")\n",
    "print(\"3D\", volve_3d_path.exists())\n",
    "\n",
    "volve_3d = segy_loader(volve_3d_path, **well_known_byte_locs(\"petrel_3d\"))"
   ]
  },
  {
   "cell_type": "markdown",
   "id": "8cfe3caf",
   "metadata": {},
   "source": [
    "## Vectorisation\n",
    "\n",
    "Once the data is loaded it can be converted to a `pandas.DataFrame` directly from the loaded `Dataset`. The Dataframe is multi-index and contains columns for each variable in the originally loaded dataset. This includes the seismic amplitude as `data` and the `cdp_x` and `cdp_y` locations. If you require smaller volumes from the input data, you can use xarray selection methods prior to conversion to a DataFrame."
   ]
  },
  {
   "cell_type": "code",
   "execution_count": null,
   "id": "6b79f646",
   "metadata": {},
   "outputs": [],
   "source": [
    "volve_3d_df = volve_3d.to_dataframe()\n",
    "display(volve_3d_df)"
   ]
  },
  {
   "cell_type": "markdown",
   "id": "15ae1fee",
   "metadata": {},
   "source": [
    "We can remove the multi-index by resetting the index of the DataFrame. Vectorized workflows such as machine learning can then be easily applied to the DataFrame."
   ]
  },
  {
   "cell_type": "code",
   "execution_count": null,
   "id": "d6388509",
   "metadata": {},
   "outputs": [],
   "source": [
    "volve_3d_df_reindex = volve_3d_df.reset_index()\n",
    "display(volve_3d_df_reindex)"
   ]
  },
  {
   "cell_type": "markdown",
   "id": "38c5a35a",
   "metadata": {},
   "source": [
    "## Return to Xarray\n",
    "\n",
    "It is possible to return the DataFrame to the Dataset for output to SEGY. To do this the multi-index must be reset. Afterward, `pandas` provides the `to_xarray` method."
   ]
  },
  {
   "cell_type": "code",
   "execution_count": null,
   "id": "5e89a235",
   "metadata": {},
   "outputs": [],
   "source": [
    "volve_3d_df_multi = volve_3d_df_reindex.set_index([\"iline\", \"xline\", \"twt\"])\n",
    "display(volve_3d_df_multi)\n",
    "volve_3d_ds = volve_3d_df_multi.to_xarray()\n",
    "display(volve_3d_ds)"
   ]
  },
  {
   "cell_type": "markdown",
   "id": "fc84936c",
   "metadata": {},
   "source": [
    "The resulting dataset requires some changes to make it compatible again for export to SEGY.\n",
    "Firstly, the attributes need to be set. The simplest way is to copy these from the original SEG-Y input. Otherwise they can be set manually. `segysak` specifically needs the `sample_rate` and the `coord_scalar` attributes."
   ]
  },
  {
   "cell_type": "code",
   "execution_count": null,
   "id": "94725001",
   "metadata": {},
   "outputs": [],
   "source": [
    "volve_3d_ds.attrs = volve_3d.attrs\n",
    "display(volve_3d_ds.attrs)"
   ]
  },
  {
   "cell_type": "markdown",
   "id": "a5670e1a",
   "metadata": {},
   "source": [
    "The `cdp_x` and `cdp_y` positions must be reduced to 2D along the vertical axis \"twt\" and set as coordinates."
   ]
  },
  {
   "cell_type": "code",
   "execution_count": null,
   "id": "440bb2ae",
   "metadata": {},
   "outputs": [],
   "source": [
    "volve_3d_ds[\"cdp_x\"] = volve_3d_ds[\"cdp_x\"].mean(dim=[\"twt\"])\n",
    "volve_3d_ds[\"cdp_y\"] = volve_3d_ds[\"cdp_y\"].mean(dim=[\"twt\"])\n",
    "volve_3d_ds = volve_3d_ds.set_coords([\"cdp_x\", \"cdp_y\"])\n",
    "volve_3d_ds"
   ]
  },
  {
   "cell_type": "markdown",
   "id": "88a17569",
   "metadata": {},
   "source": [
    "Afterwards, use the `segy_writer` utility as normal to return to SEGY."
   ]
  },
  {
   "cell_type": "code",
   "execution_count": null,
   "id": "b63ffb15",
   "metadata": {
    "tags": []
   },
   "outputs": [],
   "source": [
    "segy_writer(volve_3d_ds, \"test.segy\")"
   ]
  }
 ],
 "metadata": {
  "jupytext": {
   "formats": "ipynb,py:percent"
  },
  "kernelspec": {
   "display_name": "Python 3 (ipykernel)",
   "language": "python",
   "name": "python3"
  }
 },
 "nbformat": 4,
 "nbformat_minor": 5
}
