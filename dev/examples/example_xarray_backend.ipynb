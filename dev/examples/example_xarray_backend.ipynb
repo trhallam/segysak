{
 "cells": [
  {
   "cell_type": "code",
   "execution_count": null,
   "id": "4751cdf1-c007-4332-bdc2-11887a4f4d17",
   "metadata": {
    "tags": []
   },
   "outputs": [],
   "source": [
    "import pathlib\n",
    "import matplotlib.pyplot as plt\n",
    "import xarray as xr\n",
    "import numpy as np\n",
    "from segysak.segy import segy_loader\n",
    "import segyio"
   ]
  },
  {
   "cell_type": "code",
   "execution_count": null,
   "id": "4e266991-f7e0-444d-a86e-2760d51a7956",
   "metadata": {
    "tags": []
   },
   "outputs": [],
   "source": [
    "dir(segyio.spec())"
   ]
  },
  {
   "cell_type": "code",
   "execution_count": null,
   "id": "627a4654-0297-44c2-893c-d0c86dd28036",
   "metadata": {
    "tags": []
   },
   "outputs": [],
   "source": [
    "coord_scalar = 100.0\n",
    "np.power(\n",
    "            abs(coord_scalar), np.sign(coord_scalar) * -1\n",
    "        )"
   ]
  },
  {
   "cell_type": "code",
   "execution_count": null,
   "id": "6f3859ca-23e8-4fe8-913b-01596e3e09a6",
   "metadata": {
    "tags": []
   },
   "outputs": [],
   "source": [
    "xr.backends.list_engines()"
   ]
  },
  {
   "cell_type": "code",
   "execution_count": null,
   "id": "7682dad5-d178-4de8-9465-597e248c82e9",
   "metadata": {
    "tags": []
   },
   "outputs": [],
   "source": [
    "volve = xr.open_dataset('data/volve10r12-full-twt-sub3d.sgy', dim_byte_fields=dict(\n",
    "    iline=5, \n",
    "    xline=21,\n",
    "    ), \n",
    "    extra_byte_fields=dict(\n",
    "        cdpx=73,\n",
    "        cdpy=77,\n",
    "    ),\n",
    "    silent=True,\n",
    ")"
   ]
  },
  {
   "cell_type": "code",
   "execution_count": null,
   "id": "ba119fb6-b18c-475e-be38-3ea2dea03f28",
   "metadata": {},
   "outputs": [],
   "source": [
    "df = "
   ]
  },
  {
   "cell_type": "code",
   "execution_count": null,
   "id": "27a1c742-f4fc-48cd-ac7a-26c42abae31d",
   "metadata": {
    "tags": []
   },
   "outputs": [],
   "source": [
    "for t in volve.stack(tracen=('iline', 'xline'), ).tracen:\n",
    "    print(t)\n",
    "    print(v)\n",
    "    break"
   ]
  },
  {
   "cell_type": "code",
   "execution_count": null,
   "id": "6adde3dd-2caa-4b0f-98ab-2f54a734366b",
   "metadata": {
    "tags": []
   },
   "outputs": [],
   "source": [
    "str(volve.data.attrs['text'])"
   ]
  },
  {
   "cell_type": "code",
   "execution_count": null,
   "id": "73ac3f39-d2f5-40f2-9474-482dd3a264ae",
   "metadata": {},
   "outputs": [],
   "source": []
  },
  {
   "cell_type": "code",
   "execution_count": null,
   "id": "175eb6a4-6cb5-457b-8137-8f19c6191b55",
   "metadata": {
    "tags": []
   },
   "outputs": [],
   "source": [
    "volve.sel(iline=10100, drop=True).data.transpose('samples','xline').plot(yincrease=False)"
   ]
  },
  {
   "cell_type": "code",
   "execution_count": null,
   "id": "070860c0-d362-4c15-89d3-ae9ed95904d8",
   "metadata": {
    "tags": []
   },
   "outputs": [],
   "source": [
    "volve.transpose(\"samples\", \"iline\", \"xline\").sel(iline=slice(10120,10125)).data.values"
   ]
  },
  {
   "cell_type": "markdown",
   "id": "b81e2cb0-4779-46e8-bb6d-0a91a46b404a",
   "metadata": {},
   "source": [
    "## Working with gathers"
   ]
  },
  {
   "cell_type": "code",
   "execution_count": null,
   "id": "53a8bda6-f66b-4c56-819f-62bb6e5166a5",
   "metadata": {
    "tags": []
   },
   "outputs": [],
   "source": [
    "segy_file = pathlib.Path(\"data/3D_gathers_pstm_nmo.sgy\")\n",
    "\n",
    "penobscot_3d_gath = xr.open_dataset(\n",
    "    segy_file, \n",
    "    dim_byte_fields=dict(iline=189, xline=193, offset=37),\n",
    "    extra_byte_fields=dict(cdp_x=181, cdp_y=185)\n",
    ")"
   ]
  },
  {
   "cell_type": "code",
   "execution_count": null,
   "id": "975cc294-8411-4baa-b2ba-b5d2169853e4",
   "metadata": {
    "tags": []
   },
   "outputs": [],
   "source": [
    "penobscot_3d_gath"
   ]
  },
  {
   "cell_type": "code",
   "execution_count": null,
   "id": "06c8ccf3-32ed-489d-9a80-f5bb4ca9cf11",
   "metadata": {
    "tags": []
   },
   "outputs": [],
   "source": [
    "penobscot_3d_gath.isel(iline=0)"
   ]
  },
  {
   "cell_type": "code",
   "execution_count": null,
   "id": "956a7b88-8296-44c9-95e7-cc5825cdef33",
   "metadata": {
    "tags": []
   },
   "outputs": [],
   "source": [
    "fig, axs = plt.subplots(figsize=(20, 10))\n",
    "axs.imshow(\n",
    "    penobscot_3d_gath.isel(xline=3)\n",
    "    .data.stack(stacked_offset=(\"iline\", \"offset\"))\n",
    "    .values,\n",
    "    vmin=-5000,\n",
    "    vmax=5000,\n",
    "    cmap=\"seismic\",\n",
    "    aspect=\"auto\",\n",
    ")"
   ]
  },
  {
   "cell_type": "code",
   "execution_count": null,
   "id": "7634003f-2e78-4476-9aa0-a403ef6f2a6f",
   "metadata": {
    "tags": []
   },
   "outputs": [],
   "source": [
    "penobscot_3d_gath.data.values.shape"
   ]
  },
  {
   "cell_type": "markdown",
   "id": "4bb8531f-1ee3-4807-90ec-b11b4a87b1e8",
   "metadata": {},
   "source": [
    "# Large Test"
   ]
  },
  {
   "cell_type": "code",
   "execution_count": null,
   "id": "cd627387-21aa-451e-a17c-7b4b02658cf4",
   "metadata": {
    "tags": []
   },
   "outputs": [],
   "source": [
    "from segysak.segy import segy_header_scrape\n",
    "import xarray as xr\n",
    "import pathlib"
   ]
  },
  {
   "cell_type": "code",
   "execution_count": null,
   "id": "98022f3f-6476-4c2b-9478-8501c516a8d1",
   "metadata": {
    "tags": []
   },
   "outputs": [],
   "source": [
    "file = pathlib.Path(\"data/Dutch Government_F3_entire_8bit seismic.segy\")\n",
    "\n",
    "dutch_head_df = segy_header_scrape(file)\n"
   ]
  },
  {
   "cell_type": "code",
   "execution_count": null,
   "id": "cfb8a2d9-5153-483b-8b9d-6cda4c76666f",
   "metadata": {
    "tags": []
   },
   "outputs": [],
   "source": [
    "dutch_head_df[0:2].to_dict(orient='records')"
   ]
  },
  {
   "cell_type": "code",
   "execution_count": null,
   "id": "47bca113-e3a2-417e-8adb-e0771fccd081",
   "metadata": {
    "tags": []
   },
   "outputs": [],
   "source": [
    "dutch = xr.open_dataset(\n",
    "    file, \n",
    "    dim_byte_fields=dict(iline=189, xline=193),\n",
    "    extra_byte_fields=dict(cdp_x=181, cdp_y=185),\n",
    "    head_df = dutch_head_df,\n",
    "    chunks={},\n",
    "    silent=True,\n",
    ")"
   ]
  },
  {
   "cell_type": "code",
   "execution_count": null,
   "id": "c10d56d3-3428-4645-8eaa-a6eef9079a2f",
   "metadata": {
    "tags": []
   },
   "outputs": [],
   "source": [
    "dutch.sel(samples=1700).data.plot()"
   ]
  },
  {
   "cell_type": "code",
   "execution_count": null,
   "id": "31988272-f628-4085-ae10-fc0161927216",
   "metadata": {
    "tags": []
   },
   "outputs": [],
   "source": [
    "dutch.sel(xline=800).data.transpose('samples', 'iline').plot(yincrease=False)"
   ]
  },
  {
   "cell_type": "code",
   "execution_count": null,
   "id": "06da68e8-82a3-4dd1-8b95-01779e4abce8",
   "metadata": {},
   "outputs": [],
   "source": [
    "dutch.sel(iline=400).data.transpose('samples', 'xline').plot(yincrease=False)"
   ]
  },
  {
   "cell_type": "code",
   "execution_count": null,
   "id": "607216c9-9374-4a2d-bd6f-8d504d287c40",
   "metadata": {
    "tags": []
   },
   "outputs": [],
   "source": [
    "dutch.data[slice(None, None, None), slice(None, None, None), slice(0, 10, 1)]"
   ]
  },
  {
   "cell_type": "code",
   "execution_count": null,
   "id": "e13bc644-eb2e-4ff9-a7bd-5ca2941b8b6d",
   "metadata": {
    "tags": []
   },
   "outputs": [],
   "source": [
    "dutch.pyzgy.to_zgy('data/Dutch.zgy')"
   ]
  },
  {
   "cell_type": "code",
   "execution_count": null,
   "id": "7f049b7e-b99d-4852-a993-f6a46fd739b2",
   "metadata": {
    "tags": []
   },
   "outputs": [],
   "source": [
    "dutch.seisio.to_netcdf('data/Dutch.nc')"
   ]
  },
  {
   "cell_type": "code",
   "execution_count": null,
   "id": "c7ab72f2-9584-43d7-b690-9cef1e8e28c5",
   "metadata": {
    "tags": []
   },
   "outputs": [],
   "source": [
    "dutch_zgy = xr.open_dataset('data/Dutch.zgy')"
   ]
  },
  {
   "cell_type": "code",
   "execution_count": null,
   "id": "4e9ad0b6-20b3-4718-b816-d18b2b7e1ca2",
   "metadata": {
    "tags": []
   },
   "outputs": [],
   "source": [
    "dutch"
   ]
  },
  {
   "cell_type": "code",
   "execution_count": null,
   "id": "732ddd2d-0e04-416f-bc08-b29daf7b5181",
   "metadata": {
    "tags": []
   },
   "outputs": [],
   "source": [
    "dutch_zgy.sel(iline=400).data.transpose('samples', 'xline').plot(yincrease=False)"
   ]
  },
  {
   "cell_type": "code",
   "execution_count": null,
   "id": "eca604bd-9ea8-457b-a9ce-1876573978cd",
   "metadata": {
    "tags": []
   },
   "outputs": [],
   "source": [
    "import numpy as np"
   ]
  },
  {
   "cell_type": "code",
   "execution_count": null,
   "id": "de44bd7c-a264-499e-af0b-5b5f3523d089",
   "metadata": {
    "tags": []
   },
   "outputs": [],
   "source": [
    "np.squeeze(np.zeros((1, 4, 3)), axis=()).shape"
   ]
  },
  {
   "cell_type": "code",
   "execution_count": null,
   "id": "51e14c73-f4ff-4c88-897f-9c6b9b620251",
   "metadata": {
    "tags": []
   },
   "outputs": [],
   "source": [
    "dead_traces = xr.open_dataset(\n",
    "    \"../tests/test-data-segysak/f3-withdead.sgy\", \n",
    "    dim_byte_fields=dict(iline=189, xline=193),\n",
    "    extra_byte_fields=dict(cdp_x=181, cdp_y=185),\n",
    ")"
   ]
  },
  {
   "cell_type": "code",
   "execution_count": null,
   "id": "f364bb74-d298-458b-ab2e-68b127840125",
   "metadata": {
    "tags": []
   },
   "outputs": [],
   "source": [
    "dead_traces"
   ]
  },
  {
   "cell_type": "code",
   "execution_count": null,
   "id": "bf6dda91-47f5-4d60-9011-c4ddce246742",
   "metadata": {
    "tags": []
   },
   "outputs": [],
   "source": [
    "dead_traces.sel(samples=292).data.plot()"
   ]
  },
  {
   "cell_type": "code",
   "execution_count": null,
   "id": "0f7d5980-a266-4143-a531-29bb836d2ded",
   "metadata": {},
   "outputs": [],
   "source": []
  }
 ],
 "metadata": {
  "kernelspec": {
   "display_name": "Python 3 (ipykernel)",
   "language": "python",
   "name": "python3"
  },
  "language_info": {
   "codemirror_mode": {
    "name": "ipython",
    "version": 3
   },
   "file_extension": ".py",
   "mimetype": "text/x-python",
   "name": "python",
   "nbconvert_exporter": "python",
   "pygments_lexer": "ipython3",
   "version": "3.10.14"
  }
 },
 "nbformat": 4,
 "nbformat_minor": 5
}
