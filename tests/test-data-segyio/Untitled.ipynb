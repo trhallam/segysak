{
 "cells": [
  {
   "cell_type": "code",
   "execution_count": 1,
   "id": "f1da2091-0660-48a2-8cbe-d1572288020e",
   "metadata": {},
   "outputs": [],
   "source": [
    "import re"
   ]
  },
  {
   "cell_type": "code",
   "execution_count": 22,
   "id": "b08704d6-66ac-41db-bf81-c57641943030",
   "metadata": {},
   "outputs": [],
   "source": [
    "d1 = \"bin/abpoa                                               science/abpoa\\nbin/abpoa.avx                                           science/abpoa\"\n",
    "d2 = \"science/abpoa\""
   ]
  },
  {
   "cell_type": "code",
   "execution_count": 27,
   "id": "8bbb954c-c070-4773-b858-0ba6f12d8ac2",
   "metadata": {},
   "outputs": [
    {
     "data": {
      "text/plain": [
       "[]"
      ]
     },
     "execution_count": 27,
     "metadata": {},
     "output_type": "execute_result"
    }
   ],
   "source": [
    "re.findall(r\"^(.*)\\s(\\S+)$\", d1)"
   ]
  },
  {
   "cell_type": "code",
   "execution_count": null,
   "id": "d742a961-51c2-4159-95f9-dfba168ba6c3",
   "metadata": {},
   "outputs": [],
   "source": []
  }
 ],
 "metadata": {
  "kernelspec": {
   "display_name": "Python 3 (ipykernel)",
   "language": "python",
   "name": "python3"
  },
  "language_info": {
   "codemirror_mode": {
    "name": "ipython",
    "version": 3
   },
   "file_extension": ".py",
   "mimetype": "text/x-python",
   "name": "python",
   "nbconvert_exporter": "python",
   "pygments_lexer": "ipython3",
   "version": "3.10.5"
  }
 },
 "nbformat": 4,
 "nbformat_minor": 5
}
