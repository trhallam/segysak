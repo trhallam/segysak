{
 "cells": [
  {
   "cell_type": "markdown",
   "id": "9f033b08",
   "metadata": {},
   "source": [
    "# Extract data at the intersection of a horizon and 3D volume"
   ]
  },
  {
   "cell_type": "code",
   "execution_count": null,
   "id": "716ae99f",
   "metadata": {
    "nbsphinx": "hidden"
   },
   "outputs": [],
   "source": [
    "import warnings\n",
    "\n",
    "warnings.filterwarnings(\"ignore\")"
   ]
  },
  {
   "cell_type": "code",
   "execution_count": null,
   "id": "27705125",
   "metadata": {},
   "outputs": [],
   "source": [
    "%load_ext autoreload\n",
    "%autoreload 2\n",
    "\n",
    "import matplotlib.pyplot as plt\n",
    "\n",
    "%matplotlib inline\n",
    "\n",
    "from segysak.segy import (\n",
    "    segy_loader,\n",
    "    get_segy_texthead,\n",
    "    segy_header_scan,\n",
    "    segy_header_scrape,\n",
    ")\n",
    "\n",
    "from os import path"
   ]
  },
  {
   "cell_type": "markdown",
   "id": "16d5ab2e",
   "metadata": {},
   "source": [
    "## Load Small 3D Volume from Volve"
   ]
  },
  {
   "cell_type": "code",
   "execution_count": null,
   "id": "9f11eb5b",
   "metadata": {},
   "outputs": [],
   "source": [
    "volve_3d_path = path.join(\"data\", \"volve10r12-full-twt-sub3d.sgy\")\n",
    "print(\"3D\", volve_3d_path, path.exists(volve_3d_path))"
   ]
  },
  {
   "cell_type": "code",
   "execution_count": null,
   "id": "045ede8a",
   "metadata": {},
   "outputs": [],
   "source": [
    "get_segy_texthead(volve_3d_path)"
   ]
  },
  {
   "cell_type": "code",
   "execution_count": null,
   "id": "1e5c3c3b",
   "metadata": {},
   "outputs": [],
   "source": [
    "from segysak.segy import well_known_byte_locs\n",
    "\n",
    "volve_3d = segy_loader(volve_3d_path, **well_known_byte_locs(\"petrel_3d\"))\n",
    "volve_3d.data"
   ]
  },
  {
   "cell_type": "markdown",
   "id": "5031ebcb",
   "metadata": {},
   "source": [
    "## Load up horizon data"
   ]
  },
  {
   "cell_type": "code",
   "execution_count": null,
   "id": "7e9f4711",
   "metadata": {},
   "outputs": [],
   "source": [
    "top_hugin_path = path.join(\"data\", \"hor_twt_hugin_fm_top.dat\")\n",
    "print(\"Top Hugin\", top_hugin_path, path.exists(top_hugin_path))"
   ]
  },
  {
   "cell_type": "code",
   "execution_count": null,
   "id": "6ed36228",
   "metadata": {},
   "outputs": [],
   "source": [
    "import pandas as pd\n",
    "\n",
    "top_hugin_df = pd.read_csv(top_hugin_path, names=[\"cdp_x\", \"cdp_y\", \"twt\"], sep=\" \")\n",
    "top_hugin_df.head()"
   ]
  },
  {
   "cell_type": "markdown",
   "id": "e2ddfda0",
   "metadata": {},
   "source": [
    "Would be good to plot a seismic (iline,xline) section in Pyvista as well"
   ]
  },
  {
   "cell_type": "code",
   "execution_count": null,
   "id": "2fb3cca7",
   "metadata": {},
   "outputs": [],
   "source": [
    "# import pyvista as pv\n",
    "\n",
    "# point_cloud = pv.PolyData(-1*top_hugin_df.to_numpy(), cmap='viridis')\n",
    "# point_cloud.plot(eye_dome_lighting=True)"
   ]
  },
  {
   "cell_type": "markdown",
   "id": "cbeeb956",
   "metadata": {},
   "source": [
    "Alternativey we can use the points to output a `xarray.Dataset` which comes with coordinates for plotting already gridded up for Pyvista."
   ]
  },
  {
   "cell_type": "code",
   "execution_count": null,
   "id": "5a557417",
   "metadata": {},
   "outputs": [],
   "source": [
    "top_hugin_ds = volve_3d.seis.surface_from_points(\n",
    "    top_hugin_df, \"twt\", right=(\"cdp_x\", \"cdp_y\")\n",
    ")\n",
    "top_hugin_ds"
   ]
  },
  {
   "cell_type": "code",
   "execution_count": null,
   "id": "038a11c1",
   "metadata": {},
   "outputs": [],
   "source": [
    "# the twt values from the points now in a form we can relate to the xarray cube.\n",
    "plt.imshow(top_hugin_ds.twt)"
   ]
  },
  {
   "cell_type": "code",
   "execution_count": null,
   "id": "03806ea2",
   "metadata": {},
   "outputs": [],
   "source": [
    "# point_cloud = pv.StructuredGrid(\n",
    "#     top_hugin_ds.cdp_x.values,\n",
    "#     top_hugin_ds.cdp_y.values,top_hugin_ds.twt.values,\n",
    "#     cmap='viridis')\n",
    "# point_cloud.plot(eye_dome_lighting=True)"
   ]
  },
  {
   "cell_type": "markdown",
   "id": "adc5807a",
   "metadata": {},
   "source": [
    "## Horizon Amplitude Extraction"
   ]
  },
  {
   "cell_type": "markdown",
   "id": "e1fb8779",
   "metadata": {},
   "source": [
    "Extracting horizon amplitudes requires us to interpolate the cube onto the 3D horizon."
   ]
  },
  {
   "cell_type": "code",
   "execution_count": null,
   "id": "9cda318b",
   "metadata": {},
   "outputs": [],
   "source": [
    "top_hugin_amp = volve_3d.data.interp(\n",
    "    {\"iline\": top_hugin_ds.iline, \"xline\": top_hugin_ds.xline, \"twt\": top_hugin_ds.twt}\n",
    ")"
   ]
  },
  {
   "cell_type": "code",
   "execution_count": null,
   "id": "4774678f",
   "metadata": {
    "tags": []
   },
   "outputs": [],
   "source": [
    "#\n",
    "fig = plt.figure(figsize=(15, 5))\n",
    "top_hugin_amp.plot(cmap=\"bwr\")\n",
    "cs = plt.contour(\n",
    "    top_hugin_amp.xline, top_hugin_amp.iline, top_hugin_ds.twt, levels=20, colors=\"grey\"\n",
    ")\n",
    "plt.clabel(cs, fontsize=14, fmt=\"%.1f\")"
   ]
  }
 ],
 "metadata": {
  "jupytext": {
   "formats": "ipynb,py:percent"
  },
  "kernelspec": {
   "display_name": "Python 3 (ipykernel)",
   "language": "python",
   "name": "python3"
  }
 },
 "nbformat": 4,
 "nbformat_minor": 5
}
