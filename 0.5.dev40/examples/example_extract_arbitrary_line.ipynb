{
 "cells": [
  {
   "cell_type": "markdown",
   "id": "3e4ad2c3",
   "metadata": {},
   "source": [
    "# Extract an arbitrary line from a 3D volume\n",
    "\n",
    "Arbitrary lines are often defined as piecewise lines on time/z slices or basemap views that draw a path through features of interest or for example between well locations.\n",
    "\n",
    "By extracting an arbitrary line we hope to end up with a uniformly sampled vertical section of data that traverses the path where the sampling interval is of the order of the bin interval of the dataset.\n",
    "\n"
   ]
  },
  {
   "cell_type": "code",
   "execution_count": null,
   "id": "66b5a3d0",
   "metadata": {
    "nbsphinx": "hidden"
   },
   "outputs": [],
   "source": [
    "import warnings\n",
    "\n",
    "warnings.filterwarnings(\"ignore\")"
   ]
  },
  {
   "cell_type": "code",
   "execution_count": null,
   "id": "e00d85c0",
   "metadata": {},
   "outputs": [],
   "source": [
    "from os import path\n",
    "import numpy as np\n",
    "import pandas as pd\n",
    "import matplotlib.pyplot as plt\n",
    "import wellpathpy as wpp\n",
    "import xarray as xr"
   ]
  },
  {
   "cell_type": "markdown",
   "id": "20dbc07d",
   "metadata": {},
   "source": [
    "## Load Small 3D Volume from Volve"
   ]
  },
  {
   "cell_type": "code",
   "execution_count": null,
   "id": "f8e0d317",
   "metadata": {},
   "outputs": [],
   "source": [
    "from segysak import __version__\n",
    "\n",
    "print(__version__)"
   ]
  },
  {
   "cell_type": "code",
   "execution_count": null,
   "id": "fddbb969",
   "metadata": {},
   "outputs": [],
   "source": [
    "volve_3d_path = path.join(\"data\", \"volve10r12-full-twt-sub3d.sgy\")\n",
    "print(f\"{volve_3d_path} exists: {path.exists(volve_3d_path)}\")"
   ]
  },
  {
   "cell_type": "code",
   "execution_count": null,
   "id": "c7a21ce1",
   "metadata": {},
   "outputs": [],
   "source": [
    "from segysak.segy import (\n",
    "    segy_loader,\n",
    "    get_segy_texthead,\n",
    "    segy_header_scan,\n",
    "    segy_header_scrape,\n",
    "    well_known_byte_locs,\n",
    ")\n",
    "\n",
    "volve_3d = segy_loader(volve_3d_path, **well_known_byte_locs(\"petrel_3d\"))"
   ]
  },
  {
   "cell_type": "markdown",
   "id": "cd497a7a",
   "metadata": {},
   "source": [
    "## Arbitrary Lines\n",
    "\n",
    "We define a line as lists of cdp_x & cdp_y points. These can be inside or outside of the survey, but obviously should intersect it in order to be useful."
   ]
  },
  {
   "cell_type": "code",
   "execution_count": null,
   "id": "7129b132",
   "metadata": {},
   "outputs": [],
   "source": [
    "arb_line_A = (\n",
    "    np.array([434300, 434600, 435500, 436300]),\n",
    "    np.array([6.4786e6, 6.4780e6, 6.4779e6, 6.4781e6]),\n",
    ")\n",
    "arb_line_B = (\n",
    "    np.array([434000, 434600, 435500, 436500]),\n",
    "    np.array([6.4786e6, 6.4776e6, 6.4786e6, 6.4775e6]),\n",
    ")"
   ]
  },
  {
   "cell_type": "markdown",
   "id": "46ee0671",
   "metadata": {},
   "source": [
    "Let's see how these lines are placed relative to the survey bounds. We can see *A* is fully enclosed whilst *B* has some segments outside."
   ]
  },
  {
   "cell_type": "code",
   "execution_count": null,
   "id": "075cd8a1",
   "metadata": {},
   "outputs": [],
   "source": [
    "ax = volve_3d.seis.plot_bounds()\n",
    "ax.plot(arb_line_A[0], arb_line_A[1], \".-\", label=\"Arb Line A\")\n",
    "ax.plot(arb_line_B[0], arb_line_B[1], \".-\", label=\"Arb Line B\")\n",
    "ax.legend()"
   ]
  },
  {
   "cell_type": "markdown",
   "id": "99cf2e47",
   "metadata": {},
   "source": [
    "Let's extract line A.\n",
    "\n",
    "We specify a `bin_spacing_hint` which is our desired bin spacing along the line. The function use this hint to calculate the closest binspacing that maintains uniform sampling.\n",
    "\n",
    "We have also specified the `method='linear'`, this is the default but you can specify and method that `DataArray.interp` accepts"
   ]
  },
  {
   "cell_type": "code",
   "execution_count": null,
   "id": "9f620355",
   "metadata": {},
   "outputs": [],
   "source": [
    "from time import time\n",
    "\n",
    "tic = time()\n",
    "line_A = volve_3d.seis.interp_line(arb_line_A[0], arb_line_A[1], bin_spacing_hint=10)\n",
    "toc = time()\n",
    "print(f\"That took {toc-tic} seconds\")"
   ]
  },
  {
   "cell_type": "code",
   "execution_count": null,
   "id": "7419bb79",
   "metadata": {},
   "outputs": [],
   "source": [
    "plt.figure(figsize=(8, 8))\n",
    "plt.imshow(line_A.to_array().squeeze().T, aspect=\"auto\", cmap=\"RdBu\", vmin=-10, vmax=10)"
   ]
  },
  {
   "cell_type": "markdown",
   "id": "96021c5b",
   "metadata": {},
   "source": [
    "Now, let's extract line B. Note that blank traces are inserted where the line extends outside the survey bounds."
   ]
  },
  {
   "cell_type": "code",
   "execution_count": null,
   "id": "12457512",
   "metadata": {},
   "outputs": [],
   "source": [
    "tic = time()\n",
    "line_B = volve_3d.seis.interp_line(arb_line_B[0], arb_line_B[1], bin_spacing_hint=10)\n",
    "toc = time()\n",
    "print(f\"That took {toc-tic} seconds\")"
   ]
  },
  {
   "cell_type": "code",
   "execution_count": null,
   "id": "29f03fe4",
   "metadata": {},
   "outputs": [],
   "source": [
    "plt.figure(figsize=(10, 8))\n",
    "plt.imshow(line_B.to_array().squeeze().T, aspect=\"auto\", cmap=\"RdBu\", vmin=-10, vmax=10)"
   ]
  },
  {
   "cell_type": "markdown",
   "id": "f362fbf5",
   "metadata": {},
   "source": [
    "## Petrel Shapefile\n",
    "\n",
    "We have an arbitrary line geometry defined over this small survey region stored in a shape file exported from Petrel.\n",
    "\n",
    "Let's load that and extract an arbitrary line using segysak. We also have the seismic data extracted along that line by Petrel, so we can see how that compares."
   ]
  },
  {
   "cell_type": "code",
   "execution_count": null,
   "id": "07bb7366",
   "metadata": {},
   "outputs": [],
   "source": [
    "import shapefile\n",
    "from pprint import pprint"
   ]
  },
  {
   "cell_type": "markdown",
   "id": "7a231abb",
   "metadata": {},
   "source": [
    "Load the shapefile and get the list of points"
   ]
  },
  {
   "cell_type": "code",
   "execution_count": null,
   "id": "6eee0132",
   "metadata": {},
   "outputs": [],
   "source": [
    "sf = shapefile.Reader(path.join(\"data\", \"arbitrary_line.shp\"))\n",
    "line_petrel = sf.shapes()\n",
    "print(f\"shapes are type {sf.shapeType} == POLYLINEZ\")\n",
    "print(f\"There are {len(sf.shapes())} shapes in here\")\n",
    "print(f\"The line has {len(sf.shape(0).points)} points\")\n",
    "\n",
    "points_from_shapefile = [list(t) for t in list(zip(*sf.shape(0).points))]\n",
    "pprint(points_from_shapefile)"
   ]
  },
  {
   "cell_type": "markdown",
   "id": "b8ce2caf",
   "metadata": {},
   "source": [
    "Load the segy containing the line that Petrel extracted along this geometry"
   ]
  },
  {
   "cell_type": "code",
   "execution_count": null,
   "id": "4e97d98d",
   "metadata": {},
   "outputs": [],
   "source": [
    "line_extracted_by_petrel_path = path.join(\"data\", \"volve10r12-full-twt-arb.sgy\")\n",
    "print(\n",
    "    f\"{line_extracted_by_petrel_path} exists: {path.exists(line_extracted_by_petrel_path)}\"\n",
    ")\n",
    "line_extracted_by_petrel = segy_loader(\n",
    "    line_extracted_by_petrel_path, **well_known_byte_locs(\"petrel_3d\")\n",
    ")"
   ]
  },
  {
   "cell_type": "markdown",
   "id": "d5610a89",
   "metadata": {},
   "source": [
    "Extract the line using segysak"
   ]
  },
  {
   "cell_type": "code",
   "execution_count": null,
   "id": "1f2ce59e",
   "metadata": {},
   "outputs": [],
   "source": [
    "tic = time()\n",
    "line_extracted_by_segysak = volve_3d.seis.interp_line(\n",
    "    *points_from_shapefile,\n",
    "    bin_spacing_hint=10,\n",
    "    line_method=\"linear\",\n",
    "    xysel_method=\"linear\",\n",
    ")\n",
    "toc = time()\n",
    "print(f\"That took {toc-tic} seconds\")"
   ]
  },
  {
   "cell_type": "markdown",
   "id": "f35ad3bb",
   "metadata": {},
   "source": [
    "Plot the extracted lines side by side"
   ]
  },
  {
   "cell_type": "code",
   "execution_count": null,
   "id": "b859852b",
   "metadata": {},
   "outputs": [],
   "source": [
    "fig, axs = plt.subplots(1, 2, figsize=(16, 8))\n",
    "\n",
    "axs[0].imshow(\n",
    "    line_extracted_by_segysak.to_array().squeeze().T,\n",
    "    aspect=\"auto\",\n",
    "    cmap=\"RdBu\",\n",
    "    vmin=-10,\n",
    "    vmax=10,\n",
    ")\n",
    "axs[0].set_title(\"segysak\")\n",
    "axs[1].imshow(\n",
    "    line_extracted_by_petrel.to_array().squeeze().T,\n",
    "    aspect=\"auto\",\n",
    "    cmap=\"RdBu\",\n",
    "    vmin=-10,\n",
    "    vmax=10,\n",
    ")\n",
    "axs[1].set_title(\"petrel\")"
   ]
  },
  {
   "cell_type": "markdown",
   "id": "0972a1e3",
   "metadata": {},
   "source": [
    "Plot the geometry, trace header locations along with the volve 3d bound box, to make sure things line up."
   ]
  },
  {
   "cell_type": "code",
   "execution_count": null,
   "id": "1e3ebb62",
   "metadata": {},
   "outputs": [],
   "source": [
    "plt.figure(figsize=(10, 10))\n",
    "ax = volve_3d.seis.plot_bounds(ax=plt.gca())\n",
    "\n",
    "# plot path\n",
    "ax.plot(*points_from_shapefile)\n",
    "ax.scatter(*points_from_shapefile)\n",
    "\n",
    "# plot trace positons from extracted lines based on header\n",
    "ax.scatter(\n",
    "    line_extracted_by_segysak.cdp_x,\n",
    "    line_extracted_by_segysak.cdp_y,\n",
    "    marker=\"x\",\n",
    "    color=\"k\",\n",
    ")\n",
    "ax.scatter(\n",
    "    line_extracted_by_petrel.cdp_x,\n",
    "    line_extracted_by_petrel.cdp_y,\n",
    "    marker=\"+\",\n",
    "    color=\"r\",\n",
    ")\n",
    "\n",
    "ax.set_xlim(434500, 435500)\n",
    "ax.set_ylim(6477800, 6478600)\n",
    "plt.legend(labels=[\"bounds\", \"geom\", \"corner\", \"segysak\", \"petrel\"])"
   ]
  },
  {
   "cell_type": "markdown",
   "id": "bb97dcd3",
   "metadata": {},
   "source": [
    "## Well Paths\n",
    "\n",
    "Well paths can also be treated as an arbitrary line. In this example we will use the Affine transform to convert well X and Y locations to the seismic local grid, and the Xarray `interp` method to extract a seismic trace along the well bore.\n",
    "\n",
    "First we have to load the well bore deviation and use `wellpathpy` to convert it to XYZ coordinates with a higher sampling rate."
   ]
  },
  {
   "cell_type": "code",
   "execution_count": null,
   "id": "aa2096c1",
   "metadata": {
    "lines_to_next_cell": 2
   },
   "outputs": [],
   "source": [
    "f12_dev = pd.read_csv(\"data/well_f12_deviation.asc\", comment=\"#\", delim_whitespace=True)\n",
    "f12_dev_pos = wpp.deviation(*f12_dev[[\"MD\", \"INCL\", \"AZIM_GN\"]].values.T)\n",
    "\n",
    "# depth values in MD that we want to sample the seismic cube at\n",
    "new_depths = np.arange(0, f12_dev[\"MD\"].max(), 1)\n",
    "\n",
    "# use minimum curvature and resample to 1m interval\n",
    "f12_dev_pos = f12_dev_pos.minimum_curvature().resample(new_depths)\n",
    "\n",
    "# adjust position of deviation to local coordinates and TVDSS\n",
    "f12_dev_pos.to_wellhead(\n",
    "    6478566.23,\n",
    "    435050.21,\n",
    "    inplace=True,\n",
    ")\n",
    "f12_dev_pos.to_tvdss(\n",
    "    54.9,\n",
    "    inplace=True,\n",
    ")\n",
    "\n",
    "fig, ax = plt.subplots(figsize=(10, 5))\n",
    "volve_3d.seis.plot_bounds(ax=ax)\n",
    "sc = ax.scatter(f12_dev_pos.easting, f12_dev_pos.northing, c=f12_dev_pos.depth, s=1)\n",
    "plt.colorbar(sc, label=\"F12 Depth\")\n",
    "ax.set_aspect(\"equal\")"
   ]
  },
  {
   "cell_type": "markdown",
   "id": "e3f32d86",
   "metadata": {},
   "source": [
    "We can easily sample the seismic cube by converting the positional log to `iline` and `xline` using the Affine transform for our data. We also need to convert the TVDSS values of the data to TWT (in this case we will just use a constant velocity).\n",
    "\n",
    "In both instances we will create custom xarray.DataArray instances because this allows us to relate the coordinate systems of well samples (on the new dimension `well`) to the `iline` and `xline` dimensions of the cube."
   ]
  },
  {
   "cell_type": "code",
   "execution_count": null,
   "id": "f9d6486e",
   "metadata": {},
   "outputs": [],
   "source": [
    "# need the inverse to go from xy to il/xl\n",
    "affine = volve_3d.seis.get_affine_transform().inverted()\n",
    "ilxl = affine.transform(np.dstack([f12_dev_pos.easting, f12_dev_pos.northing])[0])\n",
    "\n",
    "f12_dev_ilxl = dict(\n",
    "    iline=xr.DataArray(ilxl[:, 0], dims=\"well\", coords={\"well\": range(ilxl.shape[0])}),\n",
    "    xline=xr.DataArray(ilxl[:, 1], dims=\"well\", coords={\"well\": range(ilxl.shape[0])}),\n",
    ")\n",
    "\n",
    "twt = xr.DataArray(\n",
    "    -1.0 * f12_dev_pos.depth * 2000 / 2400,  # 2400 m/s to convert to TWT - and negate,\n",
    "    dims=\"well\",\n",
    "    coords={\"well\": range(ilxl.shape[0])},\n",
    ")\n",
    "\n",
    "f12_dev_ilxl"
   ]
  },
  {
   "cell_type": "markdown",
   "id": "b519b88c",
   "metadata": {},
   "source": [
    "The DataArrays with the new axes can be passed to interp which will perform interpolation for us on the new dimension `well`.\n",
    "\n",
    "We can also plot the well path on our seismic extracted along the well path."
   ]
  },
  {
   "cell_type": "code",
   "execution_count": null,
   "id": "612f74e9",
   "metadata": {},
   "outputs": [],
   "source": [
    "sel = volve_3d.interp(**f12_dev_ilxl)\n",
    "fig, axs = plt.subplots(figsize=(20, 10))\n",
    "sel.data.T.plot(ax=axs, yincrease=False)\n",
    "twt.plot(color=\"k\", ax=axs)"
   ]
  },
  {
   "cell_type": "markdown",
   "id": "8587fff5",
   "metadata": {},
   "source": [
    "To extract the data along the well path we just need to interpolate using the additional `twt` DataArray."
   ]
  },
  {
   "cell_type": "code",
   "execution_count": null,
   "id": "9c773ba2",
   "metadata": {
    "tags": []
   },
   "outputs": [],
   "source": [
    "well_seismic = volve_3d.interp(**f12_dev_ilxl, twt=twt)\n",
    "well_seismic.data.plot()"
   ]
  },
  {
   "cell_type": "code",
   "execution_count": null,
   "id": "7b098ffe",
   "metadata": {},
   "outputs": [],
   "source": []
  }
 ],
 "metadata": {
  "jupytext": {
   "formats": "ipynb,py:percent"
  },
  "kernelspec": {
   "display_name": "Python 3 (ipykernel)",
   "language": "python",
   "name": "python3"
  }
 },
 "nbformat": 4,
 "nbformat_minor": 5
}
