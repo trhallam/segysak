{
 "cells": [
  {
   "cell_type": "markdown",
   "id": "91c296d2",
   "metadata": {},
   "source": [
    "# Using **dask**\n",
    "\n",
    "[dask](https://dask.org/) is a Python package built upon the scientific stack to enable scalling of Python through interactive sessions to multi-core and multi-node.\n",
    "\n",
    "Of particular relevance to **SEGY-SAK** is that `xrray.Dataset` loads naturally into `dask`."
   ]
  },
  {
   "cell_type": "markdown",
   "id": "b449584f",
   "metadata": {},
   "source": [
    "## Imports and Setup\n",
    "\n",
    "Here we import the plotting tools, `numpy` and setup the `dask.Client` which will auto start a `localcluster`. Printing the client returns details about the dashboard link and resources."
   ]
  },
  {
   "cell_type": "code",
   "execution_count": null,
   "id": "3fcfa3cb",
   "metadata": {
    "nbsphinx": "hidden"
   },
   "outputs": [],
   "source": [
    "import warnings\n",
    "\n",
    "warnings.filterwarnings(\"ignore\")"
   ]
  },
  {
   "cell_type": "code",
   "execution_count": null,
   "id": "cc526526",
   "metadata": {},
   "outputs": [],
   "source": [
    "import numpy as np\n",
    "from segysak import open_seisnc, segy\n",
    "\n",
    "import matplotlib.pyplot as plt\n",
    "\n",
    "%matplotlib inline"
   ]
  },
  {
   "cell_type": "code",
   "execution_count": null,
   "id": "e4646143",
   "metadata": {},
   "outputs": [],
   "source": [
    "from dask.distributed import Client\n",
    "\n",
    "client = Client()\n",
    "client"
   ]
  },
  {
   "cell_type": "markdown",
   "id": "4a1fcfff",
   "metadata": {},
   "source": [
    "We can also scale the cluster to be a bit smaller."
   ]
  },
  {
   "cell_type": "code",
   "execution_count": null,
   "id": "ed4d1329",
   "metadata": {},
   "outputs": [],
   "source": [
    "client.cluster.scale(2, memory=\"0.5gb\")\n",
    "client"
   ]
  },
  {
   "cell_type": "markdown",
   "id": "b4c127f7",
   "metadata": {},
   "source": [
    "## Lazy loading from SEISNC using chunking\n",
    "\n",
    "If your data is in SEG-Y to use dask it must be converted to SEISNC. If you do this with the CLI it only need happen once."
   ]
  },
  {
   "cell_type": "code",
   "execution_count": null,
   "id": "0b8bc3f5",
   "metadata": {},
   "outputs": [],
   "source": [
    "segy_file = \"data/volve10r12-full-twt-sub3d.sgy\"\n",
    "seisnc_file = \"data/volve10r12-full-twt-sub3d.seisnc\"\n",
    "segy.segy_converter(\n",
    "    segy_file, seisnc_file, iline=189, xline=193, cdp_x=181, cdp_y=185, silent=True\n",
    ")"
   ]
  },
  {
   "cell_type": "markdown",
   "id": "702c9802",
   "metadata": {},
   "source": [
    "By specifying the chunks argument to the `open_seisnc` command we can ask dask to fetch the data in chunks of size *n*. In this example the `iline` dimension will be chunked in groups of 100. The valid arguments to chunks depends on the dataset but any dimension can be used.\n",
    "\n",
    "Even though the seis of the dataset is `2.14GB` it hasn't yet been loaded into memory, not will `dask` load it entirely unless the operation demands it."
   ]
  },
  {
   "cell_type": "code",
   "execution_count": null,
   "id": "6d319406",
   "metadata": {},
   "outputs": [],
   "source": [
    "seisnc = open_seisnc(\"data/volve10r12-full-twt-sub3d.seisnc\", chunks={\"iline\": 100})\n",
    "seisnc.seis.humanbytes"
   ]
  },
  {
   "cell_type": "markdown",
   "id": "a2f3115d",
   "metadata": {},
   "source": [
    "Lets see what our dataset looks like. See that the variables are `dask.array`. This means they are references to the on disk data. The dimensions must be loaded so `dask` knows how to manage your dataset."
   ]
  },
  {
   "cell_type": "code",
   "execution_count": null,
   "id": "cfd82da1",
   "metadata": {},
   "outputs": [],
   "source": [
    "seisnc"
   ]
  },
  {
   "cell_type": "markdown",
   "id": "0133c819",
   "metadata": {},
   "source": [
    "## Operations on SEISNC using `dask`\n",
    "\n",
    "In this simple example we calculate the mean, of the entire cube. If you check the dashboard (when running this example yourself). You can see the task graph and task stream execution."
   ]
  },
  {
   "cell_type": "code",
   "execution_count": null,
   "id": "f1222813",
   "metadata": {},
   "outputs": [],
   "source": [
    "mean = seisnc.data.mean()\n",
    "mean"
   ]
  },
  {
   "cell_type": "markdown",
   "id": "28538707",
   "metadata": {},
   "source": [
    "Whoa-oh, the mean is what? Yeah, `dask` won't calculate anything until you ask it to. This means you can string computations together into a task graph for lazy evaluation. To get the mean try this"
   ]
  },
  {
   "cell_type": "code",
   "execution_count": null,
   "id": "9bdb4952",
   "metadata": {},
   "outputs": [],
   "source": [
    "mean.compute().values"
   ]
  },
  {
   "cell_type": "markdown",
   "id": "3a057147",
   "metadata": {},
   "source": [
    "## Plotting with `dask`\n",
    "\n",
    "The lazy loading of data means we can plot what we want using `xarray` style slicing and `dask` will fetch only the data we need."
   ]
  },
  {
   "cell_type": "code",
   "execution_count": null,
   "id": "5f3c9fa4",
   "metadata": {
    "tags": []
   },
   "outputs": [],
   "source": [
    "fig, axs = plt.subplots(nrows=2, ncols=3, figsize=(20, 10))\n",
    "\n",
    "iline = seisnc.sel(iline=10100).transpose(\"twt\", \"xline\").data\n",
    "xline = seisnc.sel(xline=2349).transpose(\"twt\", \"iline\").data\n",
    "zslice = seisnc.sel(twt=2900, method=\"nearest\").transpose(\"iline\", \"xline\").data\n",
    "\n",
    "q = iline.quantile([0, 0.001, 0.5, 0.999, 1]).values\n",
    "rq = np.max(np.abs([q[1], q[-2]]))\n",
    "\n",
    "iline.plot(robust=True, ax=axs[0, 0], yincrease=False)\n",
    "xline.plot(robust=True, ax=axs[0, 1], yincrease=False)\n",
    "zslice.plot(robust=True, ax=axs[0, 2])\n",
    "\n",
    "imshow_kwargs = dict(\n",
    "    cmap=\"seismic\", aspect=\"auto\", vmin=-rq, vmax=rq, interpolation=\"bicubic\"\n",
    ")\n",
    "\n",
    "axs[1, 0].imshow(iline.values, **imshow_kwargs)\n",
    "axs[1, 0].set_title(\"iline\")\n",
    "axs[1, 1].imshow(xline.values, **imshow_kwargs)\n",
    "axs[1, 1].set_title(\"xline\")\n",
    "axs[1, 2].imshow(zslice.values, origin=\"lower\", **imshow_kwargs)\n",
    "axs[1, 2].set_title(\"twt\")"
   ]
  }
 ],
 "metadata": {
  "jupytext": {
   "formats": "ipynb,py:percent"
  },
  "kernelspec": {
   "display_name": "Python 3 (ipykernel)",
   "language": "python",
   "name": "python3"
  }
 },
 "nbformat": 4,
 "nbformat_minor": 5
}
