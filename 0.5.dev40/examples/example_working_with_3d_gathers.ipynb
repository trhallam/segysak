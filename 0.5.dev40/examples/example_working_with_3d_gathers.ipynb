{
 "cells": [
  {
   "cell_type": "markdown",
   "id": "be6943ff",
   "metadata": {},
   "source": [
    "# Working with 3D Gathers\n",
    "\n",
    "Gathers or pre-stack data are common in seismic interpretation and processing. In this example we will load gather data by finding and specifying the offset byte location. Learn different ways to plot and select offset data. As well as perform a simple mute and trace stack to reduce the offset dimension."
   ]
  },
  {
   "cell_type": "code",
   "execution_count": null,
   "id": "043d68de",
   "metadata": {},
   "outputs": [],
   "source": [
    "import pathlib\n",
    "from IPython.display import display\n",
    "import pandas as pd\n",
    "import xarray as xr\n",
    "import numpy as np\n",
    "from segysak.segy import segy_loader, segy_header_scan\n",
    "import matplotlib.pyplot as plt"
   ]
  },
  {
   "cell_type": "markdown",
   "id": "baf33049",
   "metadata": {},
   "source": [
    "This example uses a subset of the Penobscot 3D with data exported from the OpendTect [project](https://terranubis.com/datainfo/Penobscot)."
   ]
  },
  {
   "cell_type": "markdown",
   "id": "57b3847a",
   "metadata": {},
   "source": [
    "First we scan the data to determine which byte locations contain the relevant information. We will need to provide a byte location for the offset variable so a 4th dimension can be created when loaded the data."
   ]
  },
  {
   "cell_type": "code",
   "execution_count": null,
   "id": "05d7027c",
   "metadata": {},
   "outputs": [],
   "source": [
    "segy_file = pathlib.Path(\"data/3D_gathers_pstm_nmo.sgy\")\n",
    "with pd.option_context(\"display.max_rows\", 100):\n",
    "    display(segy_header_scan(segy_file))"
   ]
  },
  {
   "cell_type": "code",
   "execution_count": null,
   "id": "c12bd206",
   "metadata": {},
   "outputs": [],
   "source": [
    "penobscot_3d_gath = segy_loader(\n",
    "    segy_file, iline=189, xline=193, cdp_x=181, cdp_y=185, offset=37\n",
    ")"
   ]
  },
  {
   "cell_type": "markdown",
   "id": "c77ab95e",
   "metadata": {},
   "source": [
    "Note that the loaded Dataset has four dimensions with the additional dimension labeled offset. There are 61 offsets in this dataset or 61 traces per inline and xline location."
   ]
  },
  {
   "cell_type": "code",
   "execution_count": null,
   "id": "ca05ee6c",
   "metadata": {},
   "outputs": [],
   "source": [
    "display(penobscot_3d_gath)\n",
    "print(penobscot_3d_gath.offset.values)"
   ]
  },
  {
   "cell_type": "markdown",
   "id": "4cdb3d61",
   "metadata": {},
   "source": [
    "Lets check that the data looks OK for a couple of offsets. We've only got a small dataset of 11x11 traces so the seismic will look at little odd at this scale."
   ]
  },
  {
   "cell_type": "code",
   "execution_count": null,
   "id": "d1a390ec",
   "metadata": {},
   "outputs": [],
   "source": [
    "fig, axs = plt.subplots(ncols=2, figsize=(20, 10))\n",
    "\n",
    "penobscot_3d_gath.isel(iline=5, offset=0).data.T.plot(\n",
    "    yincrease=False, ax=axs[0], vmax=5000\n",
    ")\n",
    "penobscot_3d_gath.isel(xline=5, offset=0).data.T.plot(\n",
    "    yincrease=False, ax=axs[1], vmax=5000\n",
    ")"
   ]
  },
  {
   "cell_type": "markdown",
   "id": "1fb42c8c",
   "metadata": {},
   "source": [
    "## Plotting Gathers Sequentially\n",
    "\n",
    "Plotting of gathers is often done in a stacked way, displaying sequential gathers along a common dimension, usually inline or crossline. Xarray provides the `stack` method which can be used to stack labelled dimensions together."
   ]
  },
  {
   "cell_type": "code",
   "execution_count": null,
   "id": "3847e1c7",
   "metadata": {},
   "outputs": [],
   "source": [
    "fig, axs = plt.subplots(figsize=(20, 10))\n",
    "axs.imshow(\n",
    "    penobscot_3d_gath.isel(iline=0)\n",
    "    .data.stack(stacked_offset=(\"xline\", \"offset\"))\n",
    "    .values,\n",
    "    vmin=-5000,\n",
    "    vmax=5000,\n",
    "    cmap=\"seismic\",\n",
    "    aspect=\"auto\",\n",
    ")"
   ]
  },
  {
   "cell_type": "markdown",
   "id": "d033f928",
   "metadata": {},
   "source": [
    "One can easily create a common offset stack by reversing the stacked dimension arguments `\"offset\"` and `\"xline\"`."
   ]
  },
  {
   "cell_type": "code",
   "execution_count": null,
   "id": "b07425bf",
   "metadata": {},
   "outputs": [],
   "source": [
    "fig, axs = plt.subplots(figsize=(20, 10))\n",
    "axs.imshow(\n",
    "    penobscot_3d_gath.isel(iline=0)\n",
    "    .data.stack(stacked_offset=(\"offset\", \"xline\"))\n",
    "    .values,\n",
    "    vmin=-5000,\n",
    "    vmax=5000,\n",
    "    cmap=\"seismic\",\n",
    "    aspect=\"auto\",\n",
    ")"
   ]
  },
  {
   "cell_type": "markdown",
   "id": "f9d71954",
   "metadata": {},
   "source": [
    "## Arbitrary line extraction on Gathers\n",
    "\n",
    "Arbitrary line slicing of gathers based upon coordinates is also possible. Lets create a line that crosses the 3D."
   ]
  },
  {
   "cell_type": "code",
   "execution_count": null,
   "id": "5a75f280",
   "metadata": {},
   "outputs": [],
   "source": [
    "arb_line = np.array([(733600, 733850), (4895180.0, 4895180.0)])\n",
    "\n",
    "ax = penobscot_3d_gath.seis.plot_bounds()\n",
    "ax.plot(arb_line[0, :], arb_line[1, :], label=\"arb_line\")\n",
    "plt.legend()"
   ]
  },
  {
   "cell_type": "markdown",
   "id": "7e7775ca",
   "metadata": {},
   "source": [
    "Here we need to think carefully about the `bin_spacing_hint`. We also don't want to interpolate the gathers, so we use `xysel_method=\"nearest\"`."
   ]
  },
  {
   "cell_type": "code",
   "execution_count": null,
   "id": "6c391d1b",
   "metadata": {},
   "outputs": [],
   "source": [
    "penobscot_3d_gath_arb = penobscot_3d_gath.seis.interp_line(\n",
    "    arb_line[0, :], arb_line[1, :], bin_spacing_hint=30, xysel_method=\"nearest\"\n",
    ")"
   ]
  },
  {
   "cell_type": "code",
   "execution_count": null,
   "id": "187be418",
   "metadata": {},
   "outputs": [],
   "source": [
    "fig, axs = plt.subplots(figsize=(20, 10))\n",
    "axs.imshow(\n",
    "    penobscot_3d_gath_arb.data.stack(\n",
    "        stacked_offset=(\n",
    "            \"cdp\",\n",
    "            \"offset\",\n",
    "        )\n",
    "    ).values,\n",
    "    vmin=-5000,\n",
    "    vmax=5000,\n",
    "    cmap=\"seismic\",\n",
    "    aspect=\"auto\",\n",
    ")"
   ]
  },
  {
   "cell_type": "markdown",
   "id": "fefaa2f7",
   "metadata": {},
   "source": [
    "## Muting and Stacking Gathers\n",
    "\n",
    "Using one of our gathers let's define a mute function before we stack the data."
   ]
  },
  {
   "cell_type": "code",
   "execution_count": null,
   "id": "ca32e5c7",
   "metadata": {},
   "outputs": [],
   "source": [
    "fig, axs = plt.subplots(ncols=2, figsize=(20, 10))\n",
    "\n",
    "penobscot_3d_gath.isel(iline=5, xline=0).data.plot(\n",
    "    yincrease=False, ax=axs[0], vmax=5000\n",
    ")\n",
    "\n",
    "# the mute relates the offset to an expected twt, let's just use a linear mute for this example\n",
    "mute = penobscot_3d_gath.offset * 0.6 + 300\n",
    "# and then we can plot it up\n",
    "mute.plot(ax=axs[0], color=\"k\")\n",
    "# apply the mute to the volume\n",
    "penobscot_3d_gath_muted = penobscot_3d_gath.where(penobscot_3d_gath.twt > mute)\n",
    "\n",
    "# muted\n",
    "penobscot_3d_gath_muted.isel(iline=5, xline=0).data.plot(\n",
    "    yincrease=False, ax=axs[1], vmax=5000\n",
    ")"
   ]
  },
  {
   "cell_type": "markdown",
   "id": "ef47a816",
   "metadata": {},
   "source": [
    "Stacking is the process of averaging the gathers for constant time to create a single trace per inline and crossline location."
   ]
  },
  {
   "cell_type": "code",
   "execution_count": null,
   "id": "62a6065b",
   "metadata": {
    "jupyter": {
     "outputs_hidden": true
    },
    "tags": []
   },
   "outputs": [],
   "source": [
    "fig, axs = plt.subplots(ncols=3, figsize=(20, 10))\n",
    "\n",
    "plot_kwargs = dict(vmax=5000, interpolation=\"bicubic\", yincrease=False)\n",
    "\n",
    "# compare with the zero offset trace and use imshow for interpolation\n",
    "penobscot_3d_gath.isel(iline=5, offset=0).data.T.plot.imshow(ax=axs[0], **plot_kwargs)\n",
    "\n",
    "# stack the no mute data\n",
    "penobscot_3d_gath.isel(iline=5).data.mean(\"offset\").T.plot.imshow(\n",
    "    ax=axs[1], **plot_kwargs\n",
    ")\n",
    "\n",
    "# stack the muted data\n",
    "penobscot_3d_gath_muted.isel(iline=5).data.mean(\"offset\").T.plot.imshow(\n",
    "    ax=axs[2], **plot_kwargs\n",
    ")"
   ]
  },
  {
   "cell_type": "code",
   "execution_count": null,
   "id": "44226447",
   "metadata": {
    "tags": []
   },
   "outputs": [],
   "source": [
    "!pip list"
   ]
  },
  {
   "cell_type": "code",
   "execution_count": null,
   "id": "6a29706b",
   "metadata": {},
   "outputs": [],
   "source": []
  }
 ],
 "metadata": {
  "jupytext": {
   "formats": "ipynb,py:percent"
  },
  "kernelspec": {
   "display_name": "Python 3 (ipykernel)",
   "language": "python",
   "name": "python3"
  }
 },
 "nbformat": 4,
 "nbformat_minor": 5
}
