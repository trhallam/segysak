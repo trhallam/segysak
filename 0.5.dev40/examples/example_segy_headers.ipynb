{
 "cells": [
  {
   "cell_type": "markdown",
   "id": "cdb3140b",
   "metadata": {
    "lines_to_next_cell": 2
   },
   "source": [
    "# Working with SEG-Y headers\n",
    "\n",
    "Headers in SEG-Y data are additional meta information associated with each trace. In SEG-Y these are not pooled in a common data block but interleaved with the seismic trace data so we need to do some work to extract it. **segysak** has two helper methods for extracting information from a SEG-Y file. These are `segy_header_scan` and `segy_header_scrape`. Both of these functions return `pandas.DataFrame` objects containing header or header related information which can be used in QC, analysis and plotting."
   ]
  },
  {
   "cell_type": "markdown",
   "id": "fcc12948",
   "metadata": {},
   "source": [
    "## Scanning the headers\n",
    "\n",
    "`segy_header_scan` is primarily designed to help quickly asscertain the byte locations of key header information for loading or converting the full SEG-Y file. It does this by just looking at the first *N* traces (1000 by default) and returns the byte location and statistics related to the file."
   ]
  },
  {
   "cell_type": "code",
   "execution_count": null,
   "id": "5b457320",
   "metadata": {
    "nbsphinx": "hidden"
   },
   "outputs": [],
   "source": [
    "import warnings\n",
    "\n",
    "warnings.filterwarnings(\"ignore\")"
   ]
  },
  {
   "cell_type": "code",
   "execution_count": null,
   "id": "f7142c6a",
   "metadata": {},
   "outputs": [],
   "source": [
    "from segysak.segy import segy_header_scan\n",
    "\n",
    "# default just needs the file name\n",
    "scan = segy_header_scan(\"data/volve10r12-full-twt-sub3d.sgy\")\n",
    "scan"
   ]
  },
  {
   "cell_type": "markdown",
   "id": "4bd8d443",
   "metadata": {},
   "source": [
    "If you want to see the full DataFrame in a notebook, use the `pandas` options context manager.\n"
   ]
  },
  {
   "cell_type": "code",
   "execution_count": null,
   "id": "8c7fb877",
   "metadata": {},
   "outputs": [],
   "source": [
    "import pandas as pd\n",
    "from IPython.display import display\n",
    "\n",
    "with pd.option_context(\"display.max_rows\", 89):\n",
    "    display(scan)"
   ]
  },
  {
   "cell_type": "markdown",
   "id": "e4a5d3da",
   "metadata": {},
   "source": [
    "Often lots of header fields don't get filled, so lets filter by the standard deviation column `std`. In fact, there are so few here we don't need the context manager. As you can see, for `segy_loader` or `segy_converter` we will need to tell those functions that the byte location for **iline** and **xline** are *189* and *193* respectively, and the byte locations for **cdp_x** and **cdp_y** are either *73* and *77* or *181* and *185* which are identical pairs."
   ]
  },
  {
   "cell_type": "code",
   "execution_count": null,
   "id": "1ca5889b",
   "metadata": {},
   "outputs": [],
   "source": [
    "# NIIIICCCEEEE...\n",
    "scan[scan[\"std\"] > 0]"
   ]
  },
  {
   "cell_type": "markdown",
   "id": "c3b1314a",
   "metadata": {},
   "source": [
    "## Scraping Headers\n",
    "\n",
    "Scraping the header works like a scan but instead of statistics we get a DataFrame of actual trace header values. You can reduce the size of the scan by using the *partial_scan* keyword if required. The index of the DataFrame is the trace index and the columns are the header fields."
   ]
  },
  {
   "cell_type": "code",
   "execution_count": null,
   "id": "75f6a65f",
   "metadata": {},
   "outputs": [],
   "source": [
    "from segysak.segy import segy_header_scrape\n",
    "\n",
    "scrape = segy_header_scrape(\"data/volve10r12-full-twt-sub3d.sgy\", partial_scan=10000)\n",
    "scrape"
   ]
  },
  {
   "cell_type": "markdown",
   "id": "f546df4a",
   "metadata": {},
   "source": [
    "We know from the scan that many of these fields were empty so lets go ahead and filter our *scrape* by using the standard deviation again and passing the index which is the same as our column names."
   ]
  },
  {
   "cell_type": "code",
   "execution_count": null,
   "id": "30ba962b",
   "metadata": {},
   "outputs": [],
   "source": [
    "scrape = scrape[scan[scan[\"std\"] > 0].index]\n",
    "scrape"
   ]
  },
  {
   "cell_type": "markdown",
   "id": "f4104418",
   "metadata": {},
   "source": [
    "We know from the scan that many of these fields were empty so lets go ahead and filter our *scrape* by using the standard deviation again and passing the index which is the same as our column names."
   ]
  },
  {
   "cell_type": "code",
   "execution_count": null,
   "id": "c99dcaac",
   "metadata": {
    "lines_to_next_cell": 2
   },
   "outputs": [],
   "source": [
    "import matplotlib.pyplot as plt\n",
    "\n",
    "%matplotlib inline"
   ]
  },
  {
   "cell_type": "code",
   "execution_count": null,
   "id": "173f3a1c",
   "metadata": {},
   "outputs": [],
   "source": [
    "plot = scrape.hist(bins=25, figsize=(20, 10))"
   ]
  },
  {
   "cell_type": "markdown",
   "id": "155b4857",
   "metadata": {},
   "source": [
    "We can also just plot up the geometry to check that everything looks ok, here the line numbering and coordinates seem to match up, great!"
   ]
  },
  {
   "cell_type": "code",
   "execution_count": null,
   "id": "a8bcde4c",
   "metadata": {
    "tags": []
   },
   "outputs": [],
   "source": [
    "fig, axs = plt.subplots(nrows=2, figsize=(12, 10), sharex=True, sharey=True)\n",
    "\n",
    "scrape.plot(\n",
    "    kind=\"scatter\", x=\"CDP_X\", y=\"CDP_Y\", c=\"INLINE_3D\", ax=axs[0], cmap=\"gist_ncar\"\n",
    ")\n",
    "scrape.plot(\n",
    "    kind=\"scatter\", x=\"CDP_X\", y=\"CDP_Y\", c=\"CROSSLINE_3D\", ax=axs[1], cmap=\"gist_ncar\"\n",
    ")\n",
    "for aa in axs:\n",
    "    aa.set_aspect(\"equal\", \"box\")"
   ]
  }
 ],
 "metadata": {
  "jupytext": {
   "formats": "ipynb,py:percent"
  },
  "kernelspec": {
   "display_name": "Python 3 (ipykernel)",
   "language": "python",
   "name": "python3"
  }
 },
 "nbformat": 4,
 "nbformat_minor": 5
}
